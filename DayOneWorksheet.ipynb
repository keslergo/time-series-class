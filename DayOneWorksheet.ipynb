{
  "nbformat": 4,
  "nbformat_minor": 0,
  "metadata": {
    "colab": {
      "name": "DayOneWorksheet.ipynb",
      "provenance": [],
      "collapsed_sections": [],
      "authorship_tag": "ABX9TyMZVtVNlpq8eeS+rV4meY8W",
      "include_colab_link": true
    },
    "kernelspec": {
      "name": "ir",
      "display_name": "R"
    },
    "language_info": {
      "name": "R"
    }
  },
  "cells": [
    {
      "cell_type": "markdown",
      "metadata": {
        "id": "view-in-github",
        "colab_type": "text"
      },
      "source": [
        "<a href=\"https://colab.research.google.com/github/stephenbeckr/time-series-class/blob/main/DayOneWorksheet.ipynb\" target=\"_parent\"><img src=\"https://colab.research.google.com/assets/colab-badge.svg\" alt=\"Open In Colab\"/></a>"
      ]
    },
    {
      "cell_type": "markdown",
      "source": [
        "# Day 1 worksheet\n",
        "MATH/STAT 4540/5540 Introduction to Time Series, spring 2022\n",
        "\n",
        "## Activity 1: introductions\n",
        "- In your small group breakout room on zoom, please introduce yourself to the other students. You can be brief or verbose at your choice.\n",
        "\n",
        "- Did anyone in your group do anything exciting for winter break?  Is anyone affected by the fires?  (if anyone is badly affected, please contact the professor)\n",
        "\n",
        "Please spend up to about 5 minutes on this activity.\n",
        "\n",
        "## Activity 2: prob/stat review\n",
        "You can work on these problems with your group\n",
        "\n",
        "1. Suppose $X$ is a random variable such that\n",
        "$$\n",
        "X = \\begin{cases} 0 & \\text{with probability } 0.3 \\\\\n",
        "10 & \\text{with probability } 0.7 \\end{cases}.\n",
        "$$\n",
        "What is the **variance** of $X$?\n",
        "\n",
        "2. Explain/discuss in the group the very basics of the following distributions:\n",
        "  1. Gaussian\n",
        "  2. Binomial\n",
        "  3. Bernouilli\n",
        "\n",
        "3. Explain/discuss in the group the difference between the **law of large numbers** and the **central limit theorem**.\n",
        "\n",
        "4. Lake Wobegon is a fictional place where \"all the children are above average.\"  That's a lot to ask, but let's try to get close.  Suppose there is a high school class of 5 students that just took a test worth 100 points.  Can you find a distribution of test scores among these 5 students so that **all but one student is above average**?\n",
        "  -  Can you find a distribution of test scores such that *all but one student is above the* ***median***?\n",
        "\n",
        "## Activity 3: intro to R\n",
        "Suppose I have a biased coin that is only $40\\%$ likely to land on Heads.  If I flip it 100 times, how likely am I to observe 50 or more Heads?\n",
        "\n",
        "Please do this both **experimentally** (simulations via R) and also use R to do it **theoretically**.\n",
        "\n",
        "**Instructions**:  do this together with the group.  Someone who has *never* used R should be the programmer and share their screen.  Everyone else can give help.\n",
        "\n",
        "You can use R in this document!  See the below code cell."
      ],
      "metadata": {
        "id": "kt2a4EKScIIq"
      }
    },
    {
      "cell_type": "code",
      "execution_count": 1,
      "metadata": {
        "colab": {
          "base_uri": "https://localhost:8080/"
        },
        "id": "hlbtM6ZXcEr7",
        "outputId": "b602c1ae-9e84-4185-edb5-46fc4985c019"
      },
      "outputs": [
        {
          "output_type": "stream",
          "name": "stdout",
          "text": [
            "[1] \"Hello, world!\"\n"
          ]
        }
      ],
      "source": [
        "print(\"Hello, world!\")"
      ]
    }
  ]
}