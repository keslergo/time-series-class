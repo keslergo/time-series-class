{
  "nbformat": 4,
  "nbformat_minor": 0,
  "metadata": {
    "colab": {
      "name": "R_tutorial.ipynb",
      "provenance": [],
      "collapsed_sections": [],
      "authorship_tag": "ABX9TyMDUFGrDoQFsmXGQRrc6D5m",
      "include_colab_link": true
    },
    "kernelspec": {
      "name": "ir",
      "display_name": "R"
    },
    "language_info": {
      "name": "R"
    }
  },
  "cells": [
    {
      "cell_type": "markdown",
      "metadata": {
        "id": "view-in-github",
        "colab_type": "text"
      },
      "source": [
        "<a href=\"https://colab.research.google.com/github/stephenbeckr/time-series-class/blob/main/Code/R_tutorial.ipynb\" target=\"_parent\"><img src=\"https://colab.research.google.com/assets/colab-badge.svg\" alt=\"Open In Colab\"/></a>"
      ]
    },
    {
      "cell_type": "markdown",
      "metadata": {
        "id": "GnO0a8Wm97VX"
      },
      "source": [
        "# R tutorial\n",
        "\n",
        "Short and sweet `R` tutorial, adapted from Prof. William Kleiber 2016\n",
        "\n",
        "Converted to ipynb by Stephen Becker, 2021\n",
        "\n",
        "Very brief background on [`R`](https://en.wikipedia.org/wiki/R_(programming_language)\n",
        "\n",
        "- use an [IDE](https://en.wikipedia.org/wiki/Integrated_development_environment)\n",
        "  - (often with a [REPL](https://en.wikipedia.org/wiki/Read%E2%80%93eval%E2%80%93print_loop)) \n",
        "  - Common choices: \n",
        "    - [RStudio](https://www.rstudio.com/)\n",
        "    - [VS Code](https://en.wikipedia.org/wiki/Visual_Studio_Code)\n",
        "    - [Jupyter notebooks](https://en.wikipedia.org/wiki/Project_Jupyter) or JuypterLab. This colab notebook is an example of a Jupyter notebook.\n",
        "      - You can run Jupyter on remote computers like Google's computer (colab) or CU's research computing at https://jupyter.rc.colorado.edu/hub/login\n",
        "      - For colab, the default Jupyter runtime is Python, so you have to tell it to use `R`. See https://towardsdatascience.com/how-to-use-r-in-google-colab-b6e02d736497"
      ]
    },
    {
      "cell_type": "code",
      "metadata": {
        "colab": {
          "base_uri": "https://localhost:8080/",
          "height": 34
        },
        "id": "jmxpA_qy42V8",
        "outputId": "c1f140fb-c5dc-40ca-9b16-42d72b3ded5d"
      },
      "source": [
        "R.version.string"
      ],
      "execution_count": 1,
      "outputs": [
        {
          "output_type": "display_data",
          "data": {
            "text/plain": [
              "[1] \"R version 4.1.1 (2021-08-10)\""
            ],
            "text/latex": "'R version 4.1.1 (2021-08-10)'",
            "text/markdown": "'R version 4.1.1 (2021-08-10)'",
            "text/html": [
              "'R version 4.1.1 (2021-08-10)'"
            ]
          },
          "metadata": {}
        }
      ]
    },
    {
      "cell_type": "markdown",
      "metadata": {
        "id": "TJkQaERK-GxU"
      },
      "source": [
        "#### Pound sign indicates comments"
      ]
    },
    {
      "cell_type": "code",
      "metadata": {
        "id": "CckoSJZl-Ksm"
      },
      "source": [
        "# This code doesn't do anything.\n",
        "# Adding comments to your code is a good idea:\n",
        "#   (1) Remind yourself at a later point in time what you intended to do\n",
        "#   (2) Let your instructor know what you are trying to do, so you get full credit\n",
        "#   (3) Let your boss know what you're doing so you don't get fired\n",
        "#   (4) Help users and other developers"
      ],
      "execution_count": 12,
      "outputs": []
    },
    {
      "cell_type": "markdown",
      "metadata": {
        "id": "R0bmT46f-cCQ"
      },
      "source": [
        "#### Assigning variables"
      ]
    },
    {
      "cell_type": "code",
      "metadata": {
        "colab": {
          "base_uri": "https://localhost:8080/",
          "height": 68
        },
        "id": "SGcr0Ued5CN4",
        "outputId": "284ac60a-59fd-41ca-815b-ab027ed2a50d"
      },
      "source": [
        "x <- 5\n",
        "x\n",
        "y = 6\n",
        "y\n",
        "\n",
        "x + y"
      ],
      "execution_count": 13,
      "outputs": [
        {
          "output_type": "display_data",
          "data": {
            "text/plain": [
              "[1] 5"
            ],
            "text/latex": "5",
            "text/markdown": "5",
            "text/html": [
              "5"
            ]
          },
          "metadata": {}
        },
        {
          "output_type": "display_data",
          "data": {
            "text/plain": [
              "[1] 6"
            ],
            "text/latex": "6",
            "text/markdown": "6",
            "text/html": [
              "6"
            ]
          },
          "metadata": {}
        },
        {
          "output_type": "display_data",
          "data": {
            "text/plain": [
              "[1] 11"
            ],
            "text/latex": "11",
            "text/markdown": "11",
            "text/html": [
              "11"
            ]
          },
          "metadata": {}
        }
      ]
    },
    {
      "cell_type": "markdown",
      "metadata": {
        "id": "NGtzHiN_91__"
      },
      "source": [
        "#### Vectors"
      ]
    },
    {
      "cell_type": "code",
      "metadata": {
        "colab": {
          "base_uri": "https://localhost:8080/",
          "height": 170
        },
        "id": "SP8aVjMh9Hfx",
        "outputId": "7545402c-6e04-4a8b-c7d3-fa967d0b6c3b"
      },
      "source": [
        "c(2,6,12.5) # c for concatenate\n",
        "x <- c(2,6,12.5)\n",
        "x\n",
        "\n",
        "# vector arithmetic\n",
        "y <- 1\n",
        "z <- c(1,2,3)\n",
        "x + y # note how vectors add\n",
        "x + z\n",
        "2*x\n",
        "x/20\n",
        "x/z\n",
        "is(x)\n",
        "is(2)"
      ],
      "execution_count": 3,
      "outputs": [
        {
          "output_type": "display_data",
          "data": {
            "text/plain": [
              "[1]  2.0  6.0 12.5"
            ],
            "text/latex": "\\begin{enumerate*}\n\\item 2\n\\item 6\n\\item 12.5\n\\end{enumerate*}\n",
            "text/markdown": "1. 2\n2. 6\n3. 12.5\n\n\n",
            "text/html": [
              "<style>\n",
              ".list-inline {list-style: none; margin:0; padding: 0}\n",
              ".list-inline>li {display: inline-block}\n",
              ".list-inline>li:not(:last-child)::after {content: \"\\00b7\"; padding: 0 .5ex}\n",
              "</style>\n",
              "<ol class=list-inline><li>2</li><li>6</li><li>12.5</li></ol>\n"
            ]
          },
          "metadata": {}
        },
        {
          "output_type": "display_data",
          "data": {
            "text/plain": [
              "[1]  2.0  6.0 12.5"
            ],
            "text/latex": "\\begin{enumerate*}\n\\item 2\n\\item 6\n\\item 12.5\n\\end{enumerate*}\n",
            "text/markdown": "1. 2\n2. 6\n3. 12.5\n\n\n",
            "text/html": [
              "<style>\n",
              ".list-inline {list-style: none; margin:0; padding: 0}\n",
              ".list-inline>li {display: inline-block}\n",
              ".list-inline>li:not(:last-child)::after {content: \"\\00b7\"; padding: 0 .5ex}\n",
              "</style>\n",
              "<ol class=list-inline><li>2</li><li>6</li><li>12.5</li></ol>\n"
            ]
          },
          "metadata": {}
        },
        {
          "output_type": "display_data",
          "data": {
            "text/plain": [
              "[1]  3.0  7.0 13.5"
            ],
            "text/latex": "\\begin{enumerate*}\n\\item 3\n\\item 7\n\\item 13.5\n\\end{enumerate*}\n",
            "text/markdown": "1. 3\n2. 7\n3. 13.5\n\n\n",
            "text/html": [
              "<style>\n",
              ".list-inline {list-style: none; margin:0; padding: 0}\n",
              ".list-inline>li {display: inline-block}\n",
              ".list-inline>li:not(:last-child)::after {content: \"\\00b7\"; padding: 0 .5ex}\n",
              "</style>\n",
              "<ol class=list-inline><li>3</li><li>7</li><li>13.5</li></ol>\n"
            ]
          },
          "metadata": {}
        },
        {
          "output_type": "display_data",
          "data": {
            "text/plain": [
              "[1]  3.0  8.0 15.5"
            ],
            "text/latex": "\\begin{enumerate*}\n\\item 3\n\\item 8\n\\item 15.5\n\\end{enumerate*}\n",
            "text/markdown": "1. 3\n2. 8\n3. 15.5\n\n\n",
            "text/html": [
              "<style>\n",
              ".list-inline {list-style: none; margin:0; padding: 0}\n",
              ".list-inline>li {display: inline-block}\n",
              ".list-inline>li:not(:last-child)::after {content: \"\\00b7\"; padding: 0 .5ex}\n",
              "</style>\n",
              "<ol class=list-inline><li>3</li><li>8</li><li>15.5</li></ol>\n"
            ]
          },
          "metadata": {}
        },
        {
          "output_type": "display_data",
          "data": {
            "text/plain": [
              "[1]  4 12 25"
            ],
            "text/latex": "\\begin{enumerate*}\n\\item 4\n\\item 12\n\\item 25\n\\end{enumerate*}\n",
            "text/markdown": "1. 4\n2. 12\n3. 25\n\n\n",
            "text/html": [
              "<style>\n",
              ".list-inline {list-style: none; margin:0; padding: 0}\n",
              ".list-inline>li {display: inline-block}\n",
              ".list-inline>li:not(:last-child)::after {content: \"\\00b7\"; padding: 0 .5ex}\n",
              "</style>\n",
              "<ol class=list-inline><li>4</li><li>12</li><li>25</li></ol>\n"
            ]
          },
          "metadata": {}
        },
        {
          "output_type": "display_data",
          "data": {
            "text/plain": [
              "[1] 0.100 0.300 0.625"
            ],
            "text/latex": "\\begin{enumerate*}\n\\item 0.1\n\\item 0.3\n\\item 0.625\n\\end{enumerate*}\n",
            "text/markdown": "1. 0.1\n2. 0.3\n3. 0.625\n\n\n",
            "text/html": [
              "<style>\n",
              ".list-inline {list-style: none; margin:0; padding: 0}\n",
              ".list-inline>li {display: inline-block}\n",
              ".list-inline>li:not(:last-child)::after {content: \"\\00b7\"; padding: 0 .5ex}\n",
              "</style>\n",
              "<ol class=list-inline><li>0.1</li><li>0.3</li><li>0.625</li></ol>\n"
            ]
          },
          "metadata": {}
        },
        {
          "output_type": "display_data",
          "data": {
            "text/plain": [
              "[1] 2.000000 3.000000 4.166667"
            ],
            "text/latex": "\\begin{enumerate*}\n\\item 2\n\\item 3\n\\item 4.16666666666667\n\\end{enumerate*}\n",
            "text/markdown": "1. 2\n2. 3\n3. 4.16666666666667\n\n\n",
            "text/html": [
              "<style>\n",
              ".list-inline {list-style: none; margin:0; padding: 0}\n",
              ".list-inline>li {display: inline-block}\n",
              ".list-inline>li:not(:last-child)::after {content: \"\\00b7\"; padding: 0 .5ex}\n",
              "</style>\n",
              "<ol class=list-inline><li>2</li><li>3</li><li>4.16666666666667</li></ol>\n"
            ]
          },
          "metadata": {}
        },
        {
          "output_type": "display_data",
          "data": {
            "text/plain": [
              "[1] \"numeric\" \"vector\" "
            ],
            "text/latex": "\\begin{enumerate*}\n\\item 'numeric'\n\\item 'vector'\n\\end{enumerate*}\n",
            "text/markdown": "1. 'numeric'\n2. 'vector'\n\n\n",
            "text/html": [
              "<style>\n",
              ".list-inline {list-style: none; margin:0; padding: 0}\n",
              ".list-inline>li {display: inline-block}\n",
              ".list-inline>li:not(:last-child)::after {content: \"\\00b7\"; padding: 0 .5ex}\n",
              "</style>\n",
              "<ol class=list-inline><li>'numeric'</li><li>'vector'</li></ol>\n"
            ]
          },
          "metadata": {}
        },
        {
          "output_type": "display_data",
          "data": {
            "text/plain": [
              "[1] \"numeric\" \"vector\" "
            ],
            "text/latex": "\\begin{enumerate*}\n\\item 'numeric'\n\\item 'vector'\n\\end{enumerate*}\n",
            "text/markdown": "1. 'numeric'\n2. 'vector'\n\n\n",
            "text/html": [
              "<style>\n",
              ".list-inline {list-style: none; margin:0; padding: 0}\n",
              ".list-inline>li {display: inline-block}\n",
              ".list-inline>li:not(:last-child)::after {content: \"\\00b7\"; padding: 0 .5ex}\n",
              "</style>\n",
              "<ol class=list-inline><li>'numeric'</li><li>'vector'</li></ol>\n"
            ]
          },
          "metadata": {}
        }
      ]
    },
    {
      "cell_type": "markdown",
      "metadata": {
        "id": "N205Ql_395yW"
      },
      "source": [
        "#### Making life easier for yourself"
      ]
    },
    {
      "cell_type": "code",
      "metadata": {
        "colab": {
          "base_uri": "https://localhost:8080/",
          "height": 153
        },
        "id": "r9lH9g_69KGe",
        "outputId": "4d12cec1-fcd3-44db-c418-fe97766c6ab1"
      },
      "source": [
        "c(1,2,3,4,5)\n",
        "1:5\n",
        "c(1,3,5,7)\n",
        "seq(1,7,by=2)\n",
        "seq(1,7,length.out=3)\n",
        "c(2,2,2,3,3,3,4,4,4)\n",
        "rep(c(2,3,4),each=3)\n",
        "rep(c(2,3,4),times=3)"
      ],
      "execution_count": 4,
      "outputs": [
        {
          "output_type": "display_data",
          "data": {
            "text/plain": [
              "[1] 1 2 3 4 5"
            ],
            "text/latex": "\\begin{enumerate*}\n\\item 1\n\\item 2\n\\item 3\n\\item 4\n\\item 5\n\\end{enumerate*}\n",
            "text/markdown": "1. 1\n2. 2\n3. 3\n4. 4\n5. 5\n\n\n",
            "text/html": [
              "<style>\n",
              ".list-inline {list-style: none; margin:0; padding: 0}\n",
              ".list-inline>li {display: inline-block}\n",
              ".list-inline>li:not(:last-child)::after {content: \"\\00b7\"; padding: 0 .5ex}\n",
              "</style>\n",
              "<ol class=list-inline><li>1</li><li>2</li><li>3</li><li>4</li><li>5</li></ol>\n"
            ]
          },
          "metadata": {}
        },
        {
          "output_type": "display_data",
          "data": {
            "text/plain": [
              "[1] 1 2 3 4 5"
            ],
            "text/latex": "\\begin{enumerate*}\n\\item 1\n\\item 2\n\\item 3\n\\item 4\n\\item 5\n\\end{enumerate*}\n",
            "text/markdown": "1. 1\n2. 2\n3. 3\n4. 4\n5. 5\n\n\n",
            "text/html": [
              "<style>\n",
              ".list-inline {list-style: none; margin:0; padding: 0}\n",
              ".list-inline>li {display: inline-block}\n",
              ".list-inline>li:not(:last-child)::after {content: \"\\00b7\"; padding: 0 .5ex}\n",
              "</style>\n",
              "<ol class=list-inline><li>1</li><li>2</li><li>3</li><li>4</li><li>5</li></ol>\n"
            ]
          },
          "metadata": {}
        },
        {
          "output_type": "display_data",
          "data": {
            "text/plain": [
              "[1] 1 3 5 7"
            ],
            "text/latex": "\\begin{enumerate*}\n\\item 1\n\\item 3\n\\item 5\n\\item 7\n\\end{enumerate*}\n",
            "text/markdown": "1. 1\n2. 3\n3. 5\n4. 7\n\n\n",
            "text/html": [
              "<style>\n",
              ".list-inline {list-style: none; margin:0; padding: 0}\n",
              ".list-inline>li {display: inline-block}\n",
              ".list-inline>li:not(:last-child)::after {content: \"\\00b7\"; padding: 0 .5ex}\n",
              "</style>\n",
              "<ol class=list-inline><li>1</li><li>3</li><li>5</li><li>7</li></ol>\n"
            ]
          },
          "metadata": {}
        },
        {
          "output_type": "display_data",
          "data": {
            "text/plain": [
              "[1] 1 3 5 7"
            ],
            "text/latex": "\\begin{enumerate*}\n\\item 1\n\\item 3\n\\item 5\n\\item 7\n\\end{enumerate*}\n",
            "text/markdown": "1. 1\n2. 3\n3. 5\n4. 7\n\n\n",
            "text/html": [
              "<style>\n",
              ".list-inline {list-style: none; margin:0; padding: 0}\n",
              ".list-inline>li {display: inline-block}\n",
              ".list-inline>li:not(:last-child)::after {content: \"\\00b7\"; padding: 0 .5ex}\n",
              "</style>\n",
              "<ol class=list-inline><li>1</li><li>3</li><li>5</li><li>7</li></ol>\n"
            ]
          },
          "metadata": {}
        },
        {
          "output_type": "display_data",
          "data": {
            "text/plain": [
              "[1] 1 4 7"
            ],
            "text/latex": "\\begin{enumerate*}\n\\item 1\n\\item 4\n\\item 7\n\\end{enumerate*}\n",
            "text/markdown": "1. 1\n2. 4\n3. 7\n\n\n",
            "text/html": [
              "<style>\n",
              ".list-inline {list-style: none; margin:0; padding: 0}\n",
              ".list-inline>li {display: inline-block}\n",
              ".list-inline>li:not(:last-child)::after {content: \"\\00b7\"; padding: 0 .5ex}\n",
              "</style>\n",
              "<ol class=list-inline><li>1</li><li>4</li><li>7</li></ol>\n"
            ]
          },
          "metadata": {}
        },
        {
          "output_type": "display_data",
          "data": {
            "text/plain": [
              "[1] 2 2 2 3 3 3 4 4 4"
            ],
            "text/latex": "\\begin{enumerate*}\n\\item 2\n\\item 2\n\\item 2\n\\item 3\n\\item 3\n\\item 3\n\\item 4\n\\item 4\n\\item 4\n\\end{enumerate*}\n",
            "text/markdown": "1. 2\n2. 2\n3. 2\n4. 3\n5. 3\n6. 3\n7. 4\n8. 4\n9. 4\n\n\n",
            "text/html": [
              "<style>\n",
              ".list-inline {list-style: none; margin:0; padding: 0}\n",
              ".list-inline>li {display: inline-block}\n",
              ".list-inline>li:not(:last-child)::after {content: \"\\00b7\"; padding: 0 .5ex}\n",
              "</style>\n",
              "<ol class=list-inline><li>2</li><li>2</li><li>2</li><li>3</li><li>3</li><li>3</li><li>4</li><li>4</li><li>4</li></ol>\n"
            ]
          },
          "metadata": {}
        },
        {
          "output_type": "display_data",
          "data": {
            "text/plain": [
              "[1] 2 2 2 3 3 3 4 4 4"
            ],
            "text/latex": "\\begin{enumerate*}\n\\item 2\n\\item 2\n\\item 2\n\\item 3\n\\item 3\n\\item 3\n\\item 4\n\\item 4\n\\item 4\n\\end{enumerate*}\n",
            "text/markdown": "1. 2\n2. 2\n3. 2\n4. 3\n5. 3\n6. 3\n7. 4\n8. 4\n9. 4\n\n\n",
            "text/html": [
              "<style>\n",
              ".list-inline {list-style: none; margin:0; padding: 0}\n",
              ".list-inline>li {display: inline-block}\n",
              ".list-inline>li:not(:last-child)::after {content: \"\\00b7\"; padding: 0 .5ex}\n",
              "</style>\n",
              "<ol class=list-inline><li>2</li><li>2</li><li>2</li><li>3</li><li>3</li><li>3</li><li>4</li><li>4</li><li>4</li></ol>\n"
            ]
          },
          "metadata": {}
        },
        {
          "output_type": "display_data",
          "data": {
            "text/plain": [
              "[1] 2 3 4 2 3 4 2 3 4"
            ],
            "text/latex": "\\begin{enumerate*}\n\\item 2\n\\item 3\n\\item 4\n\\item 2\n\\item 3\n\\item 4\n\\item 2\n\\item 3\n\\item 4\n\\end{enumerate*}\n",
            "text/markdown": "1. 2\n2. 3\n3. 4\n4. 2\n5. 3\n6. 4\n7. 2\n8. 3\n9. 4\n\n\n",
            "text/html": [
              "<style>\n",
              ".list-inline {list-style: none; margin:0; padding: 0}\n",
              ".list-inline>li {display: inline-block}\n",
              ".list-inline>li:not(:last-child)::after {content: \"\\00b7\"; padding: 0 .5ex}\n",
              "</style>\n",
              "<ol class=list-inline><li>2</li><li>3</li><li>4</li><li>2</li><li>3</li><li>4</li><li>2</li><li>3</li><li>4</li></ol>\n"
            ]
          },
          "metadata": {}
        }
      ]
    },
    {
      "cell_type": "markdown",
      "metadata": {
        "id": "NUZlD3jQ_z30"
      },
      "source": [
        "#### Basic Plotting"
      ]
    },
    {
      "cell_type": "code",
      "metadata": {
        "colab": {
          "base_uri": "https://localhost:8080/",
          "height": 1000
        },
        "id": "GyfJXjM49M92",
        "outputId": "62a4cd31-9185-4dea-b62c-8f4a7060e0ac"
      },
      "source": [
        "x <- rnorm(n=100, mean=0, sd=1)\n",
        "# what is rnorm?  See also pnorm (cdf), dnorm (pdf) and qnorm (quantile function)\n",
        "?rnorm\n",
        "help(rnorm)\n",
        "plot(x)\n",
        "hist(x)\n",
        "hist(x, breaks=20)\n",
        "plot(x,xlab=\"Time\",ylab=\"Random normal values\",col=\"red\",type=\"l\",main=\"Plot 1\")\n",
        "# try removing some of the options to see what does what, try type=\"b\""
      ],
      "execution_count": 5,
      "outputs": [
        {
          "output_type": "stream",
          "name": "stderr",
          "text": [
            "Warning message in seq_len(head.end.idx):\n",
            "“first element used of 'length.out' argument”\n",
            "ERROR while rich displaying an object: Error in seq_len(head.end.idx): argument must be coercible to non-negative integer\n",
            "\n",
            "Traceback:\n",
            "1. FUN(X[[i]], ...)\n",
            "2. tryCatch(withCallingHandlers({\n",
            " .     if (!mime %in% names(repr::mime2repr)) \n",
            " .         stop(\"No repr_* for mimetype \", mime, \" in repr::mime2repr\")\n",
            " .     rpr <- repr::mime2repr[[mime]](obj)\n",
            " .     if (is.null(rpr)) \n",
            " .         return(NULL)\n",
            " .     prepare_content(is.raw(rpr), rpr)\n",
            " . }, error = error_handler), error = outer_handler)\n",
            "3. tryCatchList(expr, classes, parentenv, handlers)\n",
            "4. tryCatchOne(expr, names, parentenv, handlers[[1L]])\n",
            "5. doTryCatch(return(expr), name, parentenv, handler)\n",
            "6. withCallingHandlers({\n",
            " .     if (!mime %in% names(repr::mime2repr)) \n",
            " .         stop(\"No repr_* for mimetype \", mime, \" in repr::mime2repr\")\n",
            " .     rpr <- repr::mime2repr[[mime]](obj)\n",
            " .     if (is.null(rpr)) \n",
            " .         return(NULL)\n",
            " .     prepare_content(is.raw(rpr), rpr)\n",
            " . }, error = error_handler)\n",
            "7. repr::mime2repr[[mime]](obj)\n",
            "8. repr_html.help_files_with_topic(obj)\n",
            "9. repr_help_files_with_topic_generic(obj, Rd2HTML)\n",
            "Warning message in seq_len(head.end.idx):\n",
            "“first element used of 'length.out' argument”\n",
            "ERROR while rich displaying an object: Error in seq_len(head.end.idx): argument must be coercible to non-negative integer\n",
            "\n",
            "Traceback:\n",
            "1. FUN(X[[i]], ...)\n",
            "2. tryCatch(withCallingHandlers({\n",
            " .     if (!mime %in% names(repr::mime2repr)) \n",
            " .         stop(\"No repr_* for mimetype \", mime, \" in repr::mime2repr\")\n",
            " .     rpr <- repr::mime2repr[[mime]](obj)\n",
            " .     if (is.null(rpr)) \n",
            " .         return(NULL)\n",
            " .     prepare_content(is.raw(rpr), rpr)\n",
            " . }, error = error_handler), error = outer_handler)\n",
            "3. tryCatchList(expr, classes, parentenv, handlers)\n",
            "4. tryCatchOne(expr, names, parentenv, handlers[[1L]])\n",
            "5. doTryCatch(return(expr), name, parentenv, handler)\n",
            "6. withCallingHandlers({\n",
            " .     if (!mime %in% names(repr::mime2repr)) \n",
            " .         stop(\"No repr_* for mimetype \", mime, \" in repr::mime2repr\")\n",
            " .     rpr <- repr::mime2repr[[mime]](obj)\n",
            " .     if (is.null(rpr)) \n",
            " .         return(NULL)\n",
            " .     prepare_content(is.raw(rpr), rpr)\n",
            " . }, error = error_handler)\n",
            "7. repr::mime2repr[[mime]](obj)\n",
            "8. repr_html.help_files_with_topic(obj)\n",
            "9. repr_help_files_with_topic_generic(obj, Rd2HTML)\n"
          ]
        },
        {
          "output_type": "display_data",
          "data": {
            "image/png": "[encoded data removed]",
            "text/plain": [
              "plot without title"
            ]
          },
          "metadata": {
            "image/png": {
              "width": 420,
              "height": 420
            }
          }
        },
        {
          "output_type": "display_data",
          "data": {
            "image/png": "[encoded data removed]",
            "text/plain": [
              "Plot with title “Histogram of x”"
            ]
          },
          "metadata": {
            "image/png": {
              "width": 420,
              "height": 420
            }
          }
        },
        {
          "output_type": "display_data",
          "data": {
            "image/png": "[encoded data removed]",
            "text/plain": [
              "Plot with title “Histogram of x”"
            ]
          },
          "metadata": {
            "image/png": {
              "width": 420,
              "height": 420
            }
          }
        },
        {
          "output_type": "display_data",
          "data": {
            "image/png": "[encoded data removed]",
            "text/plain": [
              "Plot with title “Plot 1”"
            ]
          },
          "metadata": {
            "image/png": {
              "width": 420,
              "height": 420
            }
          }
        }
      ]
    },
    {
      "cell_type": "markdown",
      "metadata": {
        "id": "myQZZM6V_3WS"
      },
      "source": [
        "#### Matrices"
      ]
    },
    {
      "cell_type": "code",
      "metadata": {
        "colab": {
          "base_uri": "https://localhost:8080/",
          "height": 1000
        },
        "id": "cypmU2X09PGt",
        "outputId": "de6cef69-30da-486b-a77b-27dbdc389d7d"
      },
      "source": [
        "x <- matrix(nc=3,nr=4) # nc = number columns, nr = number rows\n",
        "x\n",
        "dim(x)\n",
        "x <- matrix(1:12,nc=3,nr=4)\n",
        "x # note that matrix populates by column\n",
        "y <- matrix(c(2:12,0),nc=3,nr=4)\n",
        "y\n",
        "x + y\n",
        "z <- x + y\n",
        "z\n",
        "x/y # doh\n",
        "(x + 1) - y\n",
        "# grabbing individual columns or rows\n",
        "x\n",
        "x[1,]\n",
        "x[,2]\n",
        "x[1:3,1:2] # equivalent to x[c(1,2,3),c(1,2)]\n",
        "x[,-1]\n",
        "is(x)\n",
        "# matrix multiplication\n",
        "x <- matrix(1:6,nc=2,nr=3)\n",
        "y <- matrix(-c(5:10),nc=2,nr=3)\n",
        "x*y\n",
        "x %*% y\n",
        "t(x) %*% y\n",
        "x %*% t(y)"
      ],
      "execution_count": 6,
      "outputs": [
        {
          "output_type": "display_data",
          "data": {
            "text/plain": [
              "     [,1] [,2] [,3]\n",
              "[1,] NA   NA   NA  \n",
              "[2,] NA   NA   NA  \n",
              "[3,] NA   NA   NA  \n",
              "[4,] NA   NA   NA  "
            ],
            "text/latex": "A matrix: 4 × 3 of type lgl\n\\begin{tabular}{lll}\n\t NA & NA & NA\\\\\n\t NA & NA & NA\\\\\n\t NA & NA & NA\\\\\n\t NA & NA & NA\\\\\n\\end{tabular}\n",
            "text/markdown": "\nA matrix: 4 × 3 of type lgl\n\n| NA | NA | NA |\n| NA | NA | NA |\n| NA | NA | NA |\n| NA | NA | NA |\n\n",
            "text/html": [
              "<table class=\"dataframe\">\n",
              "<caption>A matrix: 4 × 3 of type lgl</caption>\n",
              "<tbody>\n",
              "\t<tr><td>NA</td><td>NA</td><td>NA</td></tr>\n",
              "\t<tr><td>NA</td><td>NA</td><td>NA</td></tr>\n",
              "\t<tr><td>NA</td><td>NA</td><td>NA</td></tr>\n",
              "\t<tr><td>NA</td><td>NA</td><td>NA</td></tr>\n",
              "</tbody>\n",
              "</table>\n"
            ]
          },
          "metadata": {}
        },
        {
          "output_type": "display_data",
          "data": {
            "text/plain": [
              "[1] 4 3"
            ],
            "text/latex": "\\begin{enumerate*}\n\\item 4\n\\item 3\n\\end{enumerate*}\n",
            "text/markdown": "1. 4\n2. 3\n\n\n",
            "text/html": [
              "<style>\n",
              ".list-inline {list-style: none; margin:0; padding: 0}\n",
              ".list-inline>li {display: inline-block}\n",
              ".list-inline>li:not(:last-child)::after {content: \"\\00b7\"; padding: 0 .5ex}\n",
              "</style>\n",
              "<ol class=list-inline><li>4</li><li>3</li></ol>\n"
            ]
          },
          "metadata": {}
        },
        {
          "output_type": "display_data",
          "data": {
            "text/plain": [
              "     [,1] [,2] [,3]\n",
              "[1,] 1    5     9  \n",
              "[2,] 2    6    10  \n",
              "[3,] 3    7    11  \n",
              "[4,] 4    8    12  "
            ],
            "text/latex": "A matrix: 4 × 3 of type int\n\\begin{tabular}{lll}\n\t 1 & 5 &  9\\\\\n\t 2 & 6 & 10\\\\\n\t 3 & 7 & 11\\\\\n\t 4 & 8 & 12\\\\\n\\end{tabular}\n",
            "text/markdown": "\nA matrix: 4 × 3 of type int\n\n| 1 | 5 |  9 |\n| 2 | 6 | 10 |\n| 3 | 7 | 11 |\n| 4 | 8 | 12 |\n\n",
            "text/html": [
              "<table class=\"dataframe\">\n",
              "<caption>A matrix: 4 × 3 of type int</caption>\n",
              "<tbody>\n",
              "\t<tr><td>1</td><td>5</td><td> 9</td></tr>\n",
              "\t<tr><td>2</td><td>6</td><td>10</td></tr>\n",
              "\t<tr><td>3</td><td>7</td><td>11</td></tr>\n",
              "\t<tr><td>4</td><td>8</td><td>12</td></tr>\n",
              "</tbody>\n",
              "</table>\n"
            ]
          },
          "metadata": {}
        },
        {
          "output_type": "display_data",
          "data": {
            "text/plain": [
              "     [,1] [,2] [,3]\n",
              "[1,] 2    6    10  \n",
              "[2,] 3    7    11  \n",
              "[3,] 4    8    12  \n",
              "[4,] 5    9     0  "
            ],
            "text/latex": "A matrix: 4 × 3 of type dbl\n\\begin{tabular}{lll}\n\t 2 & 6 & 10\\\\\n\t 3 & 7 & 11\\\\\n\t 4 & 8 & 12\\\\\n\t 5 & 9 &  0\\\\\n\\end{tabular}\n",
            "text/markdown": "\nA matrix: 4 × 3 of type dbl\n\n| 2 | 6 | 10 |\n| 3 | 7 | 11 |\n| 4 | 8 | 12 |\n| 5 | 9 |  0 |\n\n",
            "text/html": [
              "<table class=\"dataframe\">\n",
              "<caption>A matrix: 4 × 3 of type dbl</caption>\n",
              "<tbody>\n",
              "\t<tr><td>2</td><td>6</td><td>10</td></tr>\n",
              "\t<tr><td>3</td><td>7</td><td>11</td></tr>\n",
              "\t<tr><td>4</td><td>8</td><td>12</td></tr>\n",
              "\t<tr><td>5</td><td>9</td><td> 0</td></tr>\n",
              "</tbody>\n",
              "</table>\n"
            ]
          },
          "metadata": {}
        },
        {
          "output_type": "display_data",
          "data": {
            "text/plain": [
              "     [,1] [,2] [,3]\n",
              "[1,] 3    11   19  \n",
              "[2,] 5    13   21  \n",
              "[3,] 7    15   23  \n",
              "[4,] 9    17   12  "
            ],
            "text/latex": "A matrix: 4 × 3 of type dbl\n\\begin{tabular}{lll}\n\t 3 & 11 & 19\\\\\n\t 5 & 13 & 21\\\\\n\t 7 & 15 & 23\\\\\n\t 9 & 17 & 12\\\\\n\\end{tabular}\n",
            "text/markdown": "\nA matrix: 4 × 3 of type dbl\n\n| 3 | 11 | 19 |\n| 5 | 13 | 21 |\n| 7 | 15 | 23 |\n| 9 | 17 | 12 |\n\n",
            "text/html": [
              "<table class=\"dataframe\">\n",
              "<caption>A matrix: 4 × 3 of type dbl</caption>\n",
              "<tbody>\n",
              "\t<tr><td>3</td><td>11</td><td>19</td></tr>\n",
              "\t<tr><td>5</td><td>13</td><td>21</td></tr>\n",
              "\t<tr><td>7</td><td>15</td><td>23</td></tr>\n",
              "\t<tr><td>9</td><td>17</td><td>12</td></tr>\n",
              "</tbody>\n",
              "</table>\n"
            ]
          },
          "metadata": {}
        },
        {
          "output_type": "display_data",
          "data": {
            "text/plain": [
              "     [,1] [,2] [,3]\n",
              "[1,] 3    11   19  \n",
              "[2,] 5    13   21  \n",
              "[3,] 7    15   23  \n",
              "[4,] 9    17   12  "
            ],
            "text/latex": "A matrix: 4 × 3 of type dbl\n\\begin{tabular}{lll}\n\t 3 & 11 & 19\\\\\n\t 5 & 13 & 21\\\\\n\t 7 & 15 & 23\\\\\n\t 9 & 17 & 12\\\\\n\\end{tabular}\n",
            "text/markdown": "\nA matrix: 4 × 3 of type dbl\n\n| 3 | 11 | 19 |\n| 5 | 13 | 21 |\n| 7 | 15 | 23 |\n| 9 | 17 | 12 |\n\n",
            "text/html": [
              "<table class=\"dataframe\">\n",
              "<caption>A matrix: 4 × 3 of type dbl</caption>\n",
              "<tbody>\n",
              "\t<tr><td>3</td><td>11</td><td>19</td></tr>\n",
              "\t<tr><td>5</td><td>13</td><td>21</td></tr>\n",
              "\t<tr><td>7</td><td>15</td><td>23</td></tr>\n",
              "\t<tr><td>9</td><td>17</td><td>12</td></tr>\n",
              "</tbody>\n",
              "</table>\n"
            ]
          },
          "metadata": {}
        },
        {
          "output_type": "display_data",
          "data": {
            "text/plain": [
              "     [,1]      [,2]      [,3]     \n",
              "[1,] 0.5000000 0.8333333 0.9000000\n",
              "[2,] 0.6666667 0.8571429 0.9090909\n",
              "[3,] 0.7500000 0.8750000 0.9166667\n",
              "[4,] 0.8000000 0.8888889       Inf"
            ],
            "text/latex": "A matrix: 4 × 3 of type dbl\n\\begin{tabular}{lll}\n\t 0.5000000 & 0.8333333 & 0.9000000\\\\\n\t 0.6666667 & 0.8571429 & 0.9090909\\\\\n\t 0.7500000 & 0.8750000 & 0.9166667\\\\\n\t 0.8000000 & 0.8888889 &       Inf\\\\\n\\end{tabular}\n",
            "text/markdown": "\nA matrix: 4 × 3 of type dbl\n\n| 0.5000000 | 0.8333333 | 0.9000000 |\n| 0.6666667 | 0.8571429 | 0.9090909 |\n| 0.7500000 | 0.8750000 | 0.9166667 |\n| 0.8000000 | 0.8888889 |       Inf |\n\n",
            "text/html": [
              "<table class=\"dataframe\">\n",
              "<caption>A matrix: 4 × 3 of type dbl</caption>\n",
              "<tbody>\n",
              "\t<tr><td>0.5000000</td><td>0.8333333</td><td>0.9000000</td></tr>\n",
              "\t<tr><td>0.6666667</td><td>0.8571429</td><td>0.9090909</td></tr>\n",
              "\t<tr><td>0.7500000</td><td>0.8750000</td><td>0.9166667</td></tr>\n",
              "\t<tr><td>0.8000000</td><td>0.8888889</td><td>      Inf</td></tr>\n",
              "</tbody>\n",
              "</table>\n"
            ]
          },
          "metadata": {}
        },
        {
          "output_type": "display_data",
          "data": {
            "text/plain": [
              "     [,1] [,2] [,3]\n",
              "[1,] 0    0     0  \n",
              "[2,] 0    0     0  \n",
              "[3,] 0    0     0  \n",
              "[4,] 0    0    13  "
            ],
            "text/latex": "A matrix: 4 × 3 of type dbl\n\\begin{tabular}{lll}\n\t 0 & 0 &  0\\\\\n\t 0 & 0 &  0\\\\\n\t 0 & 0 &  0\\\\\n\t 0 & 0 & 13\\\\\n\\end{tabular}\n",
            "text/markdown": "\nA matrix: 4 × 3 of type dbl\n\n| 0 | 0 |  0 |\n| 0 | 0 |  0 |\n| 0 | 0 |  0 |\n| 0 | 0 | 13 |\n\n",
            "text/html": [
              "<table class=\"dataframe\">\n",
              "<caption>A matrix: 4 × 3 of type dbl</caption>\n",
              "<tbody>\n",
              "\t<tr><td>0</td><td>0</td><td> 0</td></tr>\n",
              "\t<tr><td>0</td><td>0</td><td> 0</td></tr>\n",
              "\t<tr><td>0</td><td>0</td><td> 0</td></tr>\n",
              "\t<tr><td>0</td><td>0</td><td>13</td></tr>\n",
              "</tbody>\n",
              "</table>\n"
            ]
          },
          "metadata": {}
        },
        {
          "output_type": "display_data",
          "data": {
            "text/plain": [
              "     [,1] [,2] [,3]\n",
              "[1,] 1    5     9  \n",
              "[2,] 2    6    10  \n",
              "[3,] 3    7    11  \n",
              "[4,] 4    8    12  "
            ],
            "text/latex": "A matrix: 4 × 3 of type int\n\\begin{tabular}{lll}\n\t 1 & 5 &  9\\\\\n\t 2 & 6 & 10\\\\\n\t 3 & 7 & 11\\\\\n\t 4 & 8 & 12\\\\\n\\end{tabular}\n",
            "text/markdown": "\nA matrix: 4 × 3 of type int\n\n| 1 | 5 |  9 |\n| 2 | 6 | 10 |\n| 3 | 7 | 11 |\n| 4 | 8 | 12 |\n\n",
            "text/html": [
              "<table class=\"dataframe\">\n",
              "<caption>A matrix: 4 × 3 of type int</caption>\n",
              "<tbody>\n",
              "\t<tr><td>1</td><td>5</td><td> 9</td></tr>\n",
              "\t<tr><td>2</td><td>6</td><td>10</td></tr>\n",
              "\t<tr><td>3</td><td>7</td><td>11</td></tr>\n",
              "\t<tr><td>4</td><td>8</td><td>12</td></tr>\n",
              "</tbody>\n",
              "</table>\n"
            ]
          },
          "metadata": {}
        },
        {
          "output_type": "display_data",
          "data": {
            "text/plain": [
              "[1] 1 5 9"
            ],
            "text/latex": "\\begin{enumerate*}\n\\item 1\n\\item 5\n\\item 9\n\\end{enumerate*}\n",
            "text/markdown": "1. 1\n2. 5\n3. 9\n\n\n",
            "text/html": [
              "<style>\n",
              ".list-inline {list-style: none; margin:0; padding: 0}\n",
              ".list-inline>li {display: inline-block}\n",
              ".list-inline>li:not(:last-child)::after {content: \"\\00b7\"; padding: 0 .5ex}\n",
              "</style>\n",
              "<ol class=list-inline><li>1</li><li>5</li><li>9</li></ol>\n"
            ]
          },
          "metadata": {}
        },
        {
          "output_type": "display_data",
          "data": {
            "text/plain": [
              "[1] 5 6 7 8"
            ],
            "text/latex": "\\begin{enumerate*}\n\\item 5\n\\item 6\n\\item 7\n\\item 8\n\\end{enumerate*}\n",
            "text/markdown": "1. 5\n2. 6\n3. 7\n4. 8\n\n\n",
            "text/html": [
              "<style>\n",
              ".list-inline {list-style: none; margin:0; padding: 0}\n",
              ".list-inline>li {display: inline-block}\n",
              ".list-inline>li:not(:last-child)::after {content: \"\\00b7\"; padding: 0 .5ex}\n",
              "</style>\n",
              "<ol class=list-inline><li>5</li><li>6</li><li>7</li><li>8</li></ol>\n"
            ]
          },
          "metadata": {}
        },
        {
          "output_type": "display_data",
          "data": {
            "text/plain": [
              "     [,1] [,2]\n",
              "[1,] 1    5   \n",
              "[2,] 2    6   \n",
              "[3,] 3    7   "
            ],
            "text/latex": "A matrix: 3 × 2 of type int\n\\begin{tabular}{ll}\n\t 1 & 5\\\\\n\t 2 & 6\\\\\n\t 3 & 7\\\\\n\\end{tabular}\n",
            "text/markdown": "\nA matrix: 3 × 2 of type int\n\n| 1 | 5 |\n| 2 | 6 |\n| 3 | 7 |\n\n",
            "text/html": [
              "<table class=\"dataframe\">\n",
              "<caption>A matrix: 3 × 2 of type int</caption>\n",
              "<tbody>\n",
              "\t<tr><td>1</td><td>5</td></tr>\n",
              "\t<tr><td>2</td><td>6</td></tr>\n",
              "\t<tr><td>3</td><td>7</td></tr>\n",
              "</tbody>\n",
              "</table>\n"
            ]
          },
          "metadata": {}
        },
        {
          "output_type": "display_data",
          "data": {
            "text/plain": [
              "     [,1] [,2]\n",
              "[1,] 5     9  \n",
              "[2,] 6    10  \n",
              "[3,] 7    11  \n",
              "[4,] 8    12  "
            ],
            "text/latex": "A matrix: 4 × 2 of type int\n\\begin{tabular}{ll}\n\t 5 &  9\\\\\n\t 6 & 10\\\\\n\t 7 & 11\\\\\n\t 8 & 12\\\\\n\\end{tabular}\n",
            "text/markdown": "\nA matrix: 4 × 2 of type int\n\n| 5 |  9 |\n| 6 | 10 |\n| 7 | 11 |\n| 8 | 12 |\n\n",
            "text/html": [
              "<table class=\"dataframe\">\n",
              "<caption>A matrix: 4 × 2 of type int</caption>\n",
              "<tbody>\n",
              "\t<tr><td>5</td><td> 9</td></tr>\n",
              "\t<tr><td>6</td><td>10</td></tr>\n",
              "\t<tr><td>7</td><td>11</td></tr>\n",
              "\t<tr><td>8</td><td>12</td></tr>\n",
              "</tbody>\n",
              "</table>\n"
            ]
          },
          "metadata": {}
        },
        {
          "output_type": "display_data",
          "data": {
            "text/plain": [
              "[1] \"matrix\"    \"array\"     \"structure\" \"vector\"   "
            ],
            "text/latex": "\\begin{enumerate*}\n\\item 'matrix'\n\\item 'array'\n\\item 'structure'\n\\item 'vector'\n\\end{enumerate*}\n",
            "text/markdown": "1. 'matrix'\n2. 'array'\n3. 'structure'\n4. 'vector'\n\n\n",
            "text/html": [
              "<style>\n",
              ".list-inline {list-style: none; margin:0; padding: 0}\n",
              ".list-inline>li {display: inline-block}\n",
              ".list-inline>li:not(:last-child)::after {content: \"\\00b7\"; padding: 0 .5ex}\n",
              "</style>\n",
              "<ol class=list-inline><li>'matrix'</li><li>'array'</li><li>'structure'</li><li>'vector'</li></ol>\n"
            ]
          },
          "metadata": {}
        },
        {
          "output_type": "display_data",
          "data": {
            "text/plain": [
              "     [,1] [,2]\n",
              "[1,]  -5  -32 \n",
              "[2,] -12  -45 \n",
              "[3,] -21  -60 "
            ],
            "text/latex": "A matrix: 3 × 2 of type int\n\\begin{tabular}{ll}\n\t  -5 & -32\\\\\n\t -12 & -45\\\\\n\t -21 & -60\\\\\n\\end{tabular}\n",
            "text/markdown": "\nA matrix: 3 × 2 of type int\n\n|  -5 | -32 |\n| -12 | -45 |\n| -21 | -60 |\n\n",
            "text/html": [
              "<table class=\"dataframe\">\n",
              "<caption>A matrix: 3 × 2 of type int</caption>\n",
              "<tbody>\n",
              "\t<tr><td> -5</td><td>-32</td></tr>\n",
              "\t<tr><td>-12</td><td>-45</td></tr>\n",
              "\t<tr><td>-21</td><td>-60</td></tr>\n",
              "</tbody>\n",
              "</table>\n"
            ]
          },
          "metadata": {}
        },
        {
          "output_type": "error",
          "ename": "ERROR",
          "evalue": "ignored",
          "traceback": [
            "Error in x %*% y: non-conformable arguments\nTraceback:\n"
          ]
        }
      ]
    },
    {
      "cell_type": "markdown",
      "metadata": {
        "id": "TaYIWqoA_5xe"
      },
      "source": [
        "#### Arrays (matrices on steroids)"
      ]
    },
    {
      "cell_type": "code",
      "metadata": {
        "colab": {
          "base_uri": "https://localhost:8080/",
          "height": 68
        },
        "id": "fju2jKVK9S-p",
        "outputId": "1236108b-22f5-4fb1-e592-370891b22295"
      },
      "source": [
        "x <- array(data=1:8,dim=c(1,2,4))\n",
        "x\n",
        "x[,2,]\n",
        "dim(x)"
      ],
      "execution_count": 7,
      "outputs": [
        {
          "output_type": "display_data",
          "data": {
            "text/plain": [
              ", , 1\n",
              "\n",
              "     [,1] [,2]\n",
              "[1,]    1    2\n",
              "\n",
              ", , 2\n",
              "\n",
              "     [,1] [,2]\n",
              "[1,]    3    4\n",
              "\n",
              ", , 3\n",
              "\n",
              "     [,1] [,2]\n",
              "[1,]    5    6\n",
              "\n",
              ", , 4\n",
              "\n",
              "     [,1] [,2]\n",
              "[1,]    7    8\n"
            ],
            "text/latex": "\\begin{enumerate*}\n\\item 1\n\\item 2\n\\item 3\n\\item 4\n\\item 5\n\\item 6\n\\item 7\n\\item 8\n\\end{enumerate*}\n",
            "text/markdown": "1. 1\n2. 2\n3. 3\n4. 4\n5. 5\n6. 6\n7. 7\n8. 8\n\n\n",
            "text/html": [
              "<style>\n",
              ".list-inline {list-style: none; margin:0; padding: 0}\n",
              ".list-inline>li {display: inline-block}\n",
              ".list-inline>li:not(:last-child)::after {content: \"\\00b7\"; padding: 0 .5ex}\n",
              "</style>\n",
              "<ol class=list-inline><li>1</li><li>2</li><li>3</li><li>4</li><li>5</li><li>6</li><li>7</li><li>8</li></ol>\n"
            ]
          },
          "metadata": {}
        },
        {
          "output_type": "display_data",
          "data": {
            "text/plain": [
              "[1] 2 4 6 8"
            ],
            "text/latex": "\\begin{enumerate*}\n\\item 2\n\\item 4\n\\item 6\n\\item 8\n\\end{enumerate*}\n",
            "text/markdown": "1. 2\n2. 4\n3. 6\n4. 8\n\n\n",
            "text/html": [
              "<style>\n",
              ".list-inline {list-style: none; margin:0; padding: 0}\n",
              ".list-inline>li {display: inline-block}\n",
              ".list-inline>li:not(:last-child)::after {content: \"\\00b7\"; padding: 0 .5ex}\n",
              "</style>\n",
              "<ol class=list-inline><li>2</li><li>4</li><li>6</li><li>8</li></ol>\n"
            ]
          },
          "metadata": {}
        },
        {
          "output_type": "display_data",
          "data": {
            "text/plain": [
              "[1] 1 2 4"
            ],
            "text/latex": "\\begin{enumerate*}\n\\item 1\n\\item 2\n\\item 4\n\\end{enumerate*}\n",
            "text/markdown": "1. 1\n2. 2\n3. 4\n\n\n",
            "text/html": [
              "<style>\n",
              ".list-inline {list-style: none; margin:0; padding: 0}\n",
              ".list-inline>li {display: inline-block}\n",
              ".list-inline>li:not(:last-child)::after {content: \"\\00b7\"; padding: 0 .5ex}\n",
              "</style>\n",
              "<ol class=list-inline><li>1</li><li>2</li><li>4</li></ol>\n"
            ]
          },
          "metadata": {}
        }
      ]
    },
    {
      "cell_type": "markdown",
      "metadata": {
        "id": "a3oRxyiW_9x3"
      },
      "source": [
        "#### `for` loops"
      ]
    },
    {
      "cell_type": "code",
      "metadata": {
        "colab": {
          "base_uri": "https://localhost:8080/",
          "height": 391
        },
        "id": "8Z8P5Nv59a_R",
        "outputId": "f0ffb8b6-af0b-414a-e2da-fd3e4c8a34da"
      },
      "source": [
        "x <- 0\n",
        "for(i in 1:20){\n",
        "  print(i)\n",
        "  x <- x + i\n",
        "}\n",
        "x\n",
        "sum(1:20)"
      ],
      "execution_count": 8,
      "outputs": [
        {
          "output_type": "stream",
          "name": "stdout",
          "text": [
            "[1] 1\n",
            "[1] 2\n",
            "[1] 3\n",
            "[1] 4\n",
            "[1] 5\n",
            "[1] 6\n",
            "[1] 7\n",
            "[1] 8\n",
            "[1] 9\n",
            "[1] 10\n",
            "[1] 11\n",
            "[1] 12\n",
            "[1] 13\n",
            "[1] 14\n",
            "[1] 15\n",
            "[1] 16\n",
            "[1] 17\n",
            "[1] 18\n",
            "[1] 19\n",
            "[1] 20\n"
          ]
        },
        {
          "output_type": "display_data",
          "data": {
            "text/plain": [
              "[1] 210"
            ],
            "text/latex": "210",
            "text/markdown": "210",
            "text/html": [
              "210"
            ]
          },
          "metadata": {}
        },
        {
          "output_type": "display_data",
          "data": {
            "text/plain": [
              "[1] 210"
            ],
            "text/latex": "210",
            "text/markdown": "210",
            "text/html": [
              "210"
            ]
          },
          "metadata": {}
        }
      ]
    },
    {
      "cell_type": "markdown",
      "metadata": {
        "id": "Xs7p2NhvABan"
      },
      "source": [
        "operators `&` and `|` act like \"and\" and \"or\""
      ]
    },
    {
      "cell_type": "code",
      "metadata": {
        "colab": {
          "base_uri": "https://localhost:8080/",
          "height": 51
        },
        "id": "sjci1CZk9d6S",
        "outputId": "0e13c17a-1431-42d5-e72d-02cb36c95090"
      },
      "source": [
        "one <- TRUE\n",
        "two <- FALSE\n",
        "one & two\n",
        "one | two"
      ],
      "execution_count": 14,
      "outputs": [
        {
          "output_type": "display_data",
          "data": {
            "text/plain": [
              "[1] FALSE"
            ],
            "text/latex": "FALSE",
            "text/markdown": "FALSE",
            "text/html": [
              "FALSE"
            ]
          },
          "metadata": {}
        },
        {
          "output_type": "display_data",
          "data": {
            "text/plain": [
              "[1] TRUE"
            ],
            "text/latex": "TRUE",
            "text/markdown": "TRUE",
            "text/html": [
              "TRUE"
            ]
          },
          "metadata": {}
        }
      ]
    },
    {
      "cell_type": "markdown",
      "metadata": {
        "id": "v5lp_6umAFxd"
      },
      "source": [
        "What objects are in our workspace now?"
      ]
    },
    {
      "cell_type": "code",
      "metadata": {
        "colab": {
          "base_uri": "https://localhost:8080/",
          "height": 34
        },
        "id": "YhrqUoT69f4J",
        "outputId": "3b9878b3-4fe0-40d1-a09f-2c8a02fbf5cb"
      },
      "source": [
        "ls()\n",
        "# remove everything from workspace:\n",
        "rm(list=ls())\n",
        "ls()"
      ],
      "execution_count": 10,
      "outputs": [
        {
          "output_type": "display_data",
          "data": {
            "text/plain": [
              "[1] \"i\"   \"one\" \"two\" \"x\"   \"y\"   \"z\"  "
            ],
            "text/latex": "\\begin{enumerate*}\n\\item 'i'\n\\item 'one'\n\\item 'two'\n\\item 'x'\n\\item 'y'\n\\item 'z'\n\\end{enumerate*}\n",
            "text/markdown": "1. 'i'\n2. 'one'\n3. 'two'\n4. 'x'\n5. 'y'\n6. 'z'\n\n\n",
            "text/html": [
              "<style>\n",
              ".list-inline {list-style: none; margin:0; padding: 0}\n",
              ".list-inline>li {display: inline-block}\n",
              ".list-inline>li:not(:last-child)::after {content: \"\\00b7\"; padding: 0 .5ex}\n",
              "</style>\n",
              "<ol class=list-inline><li>'i'</li><li>'one'</li><li>'two'</li><li>'x'</li><li>'y'</li><li>'z'</li></ol>\n"
            ]
          },
          "metadata": {}
        },
        {
          "output_type": "display_data",
          "data": {
            "text/plain": [
              "character(0)"
            ],
            "text/latex": "",
            "text/markdown": "",
            "text/html": [
              ""
            ]
          },
          "metadata": {}
        }
      ]
    },
    {
      "cell_type": "markdown",
      "metadata": {
        "id": "yqrB9rZl9i9m"
      },
      "source": [
        "## Let's do some statistics"
      ]
    },
    {
      "cell_type": "code",
      "metadata": {
        "colab": {
          "base_uri": "https://localhost:8080/",
          "height": 1000
        },
        "id": "1h7yNSZK9h-r",
        "outputId": "0b9b0103-076b-4fe0-a2ac-5a251b38e155"
      },
      "source": [
        "## Built-in functions, suuuuper useful\n",
        "x <- rnorm(100)\n",
        "x\n",
        "length(x)\n",
        "range(x)\n",
        "min(x)\n",
        "max(x)\n",
        "mean(x)\n",
        "median(x)\n",
        "sd(x) # standard deviation\n",
        "var(x) # variance\n",
        "sum( (x-mean(x))^2 )/(length(x) - 1)\n",
        "prod(x) # product of all elements of x\n",
        "quantile(x,probs=c(0.05,0.5,0.95)) # note median from above...\n",
        "\n",
        "boxplot(x)\n",
        "hist(x,prob=TRUE) # what does prob=TRUE do?  Check y-axis for =TRUE and =FALSE\n",
        "abline(v=mean(x),col=\"blue\",lwd=3)\n",
        "lines(density(x),col=\"red\",lwd=2,lty=2) # lwd = line width, lty = line type\n",
        "rug(x) # shows actual data points at bottom of plot as a rug plot\n",
        "\n",
        "rm(x)\n",
        "ls()"
      ],
      "execution_count": 11,
      "outputs": [
        {
          "output_type": "display_data",
          "data": {
            "text/plain": [
              "  [1] -0.98129324 -0.68112216  0.27599609 -0.89262133  0.02598125  0.05760408\n",
              "  [7] -1.20554232  1.27604817  1.20884690 -1.05372444 -1.48883259  2.49505475\n",
              " [13] -1.06893774 -0.38744171  0.59427173 -1.10544070  1.29958030  1.62095107\n",
              " [19]  0.13331021  0.73863192  0.61864800 -0.11430165 -0.14942389 -1.13736960\n",
              " [25] -1.37569952 -0.34779055 -1.81160982 -1.07461027 -1.15583666 -0.62166242\n",
              " [31]  0.19612883 -0.83965775  0.59252550  0.01513476 -1.10251968 -0.33661866\n",
              " [37]  1.25531593 -0.07701788  0.22901978 -1.32043142 -1.62065816 -0.37643515\n",
              " [43] -0.99532749  1.93374268 -1.08956357  1.30667118 -0.51377123 -0.80085589\n",
              " [49]  0.51838417 -0.92025026  0.06760850 -0.24606357  0.46918116  1.11655916\n",
              " [55] -1.75515851 -0.02412762  0.57987342 -1.37977861 -0.16154233 -0.69632281\n",
              " [61] -0.01074544 -0.23547021 -0.03917710 -0.77688737  0.01523621  1.05994393\n",
              " [67] -0.81514769  1.17697529  0.09566535 -0.85844732 -0.81618096 -0.78855336\n",
              " [73]  0.94945108  1.33785304 -0.44001258  1.90463206 -0.39375682 -0.59095027\n",
              " [79]  0.49457126 -1.10264877 -1.58443600  1.27892758  0.33704700 -0.83999431\n",
              " [85] -0.60197751  0.82501100 -0.12912722  1.23510002  1.24935362 -0.34473393\n",
              " [91] -2.04475093  0.43764851  0.82089825 -0.73022790  0.33243066  0.98212699\n",
              " [97] -0.97790127  0.18201948  1.50310601 -0.03043655"
            ],
            "text/latex": "\\begin{enumerate*}\n\\item -0.981293235889298\n\\item -0.681122160664984\n\\item 0.275996092961007\n\\item -0.892621333368609\n\\item 0.0259812490266849\n\\item 0.0576040786465978\n\\item -1.20554231665038\n\\item 1.27604817455196\n\\item 1.2088469042498\n\\item -1.05372444305911\n\\item -1.488832586893\n\\item 2.49505474894456\n\\item -1.06893773662696\n\\item -0.387441708968738\n\\item 0.59427173269984\n\\item -1.10544069537497\n\\item 1.29958030484976\n\\item 1.62095107302242\n\\item 0.133310210086101\n\\item 0.738631919304421\n\\item 0.618647999911436\n\\item -0.114301648781766\n\\item -0.149423893908071\n\\item -1.13736959974582\n\\item -1.37569952190651\n\\item -0.347790553356964\n\\item -1.81160982311458\n\\item -1.07461026591417\n\\item -1.15583666256947\n\\item -0.621662416086024\n\\item 0.196128834697777\n\\item -0.839657747908025\n\\item 0.592525496629468\n\\item 0.0151347599594838\n\\item -1.10251967593293\n\\item -0.336618658982785\n\\item 1.25531593035196\n\\item -0.0770178837771254\n\\item 0.229019776519197\n\\item -1.32043141686232\n\\item -1.62065816188904\n\\item -0.376435151021747\n\\item -0.995327489066548\n\\item 1.93374268182903\n\\item -1.08956356832966\n\\item 1.3066711788134\n\\item -0.513771225992908\n\\item -0.800855890515298\n\\item 0.518384173764997\n\\item -0.920250256211086\n\\item 0.0676085047675274\n\\item -0.246063571473456\n\\item 0.469181164068159\n\\item 1.11655915570782\n\\item -1.75515851359904\n\\item -0.0241276246893042\n\\item 0.579873417169769\n\\item -1.37977860871629\n\\item -0.161542326675698\n\\item -0.696322812192112\n\\item -0.0107454443619949\n\\item -0.23547020607683\n\\item -0.0391771029686131\n\\item -0.776887373056242\n\\item 0.0152362127576184\n\\item 1.05994392793093\n\\item -0.815147689666288\n\\item 1.1769752927827\n\\item 0.0956653539969708\n\\item -0.858447319941797\n\\item -0.816180957999206\n\\item -0.788553362864421\n\\item 0.949451082623358\n\\item 1.3378530386782\n\\item -0.440012583617069\n\\item 1.90463206167963\n\\item -0.393756820178076\n\\item -0.590950271758495\n\\item 0.49457126278038\n\\item -1.10264877184192\n\\item -1.58443600245594\n\\item 1.27892757996663\n\\item 0.337047001226024\n\\item -0.839994314342014\n\\item -0.601977509296909\n\\item 0.825011000856059\n\\item -0.129127221823093\n\\item 1.235100023682\n\\item 1.24935361978903\n\\item -0.344733930338738\n\\item -2.04475092718766\n\\item 0.437648507817769\n\\item 0.820898246945449\n\\item -0.730227895623464\n\\item 0.332430660629427\n\\item 0.982126991124763\n\\item -0.977901265447436\n\\item 0.182019475765316\n\\item 1.50310600542606\n\\item -0.0304365466716636\n\\end{enumerate*}\n",
            "text/markdown": "1. -0.981293235889298\n2. -0.681122160664984\n3. 0.275996092961007\n4. -0.892621333368609\n5. 0.0259812490266849\n6. 0.0576040786465978\n7. -1.20554231665038\n8. 1.27604817455196\n9. 1.2088469042498\n10. -1.05372444305911\n11. -1.488832586893\n12. 2.49505474894456\n13. -1.06893773662696\n14. -0.387441708968738\n15. 0.59427173269984\n16. -1.10544069537497\n17. 1.29958030484976\n18. 1.62095107302242\n19. 0.133310210086101\n20. 0.738631919304421\n21. 0.618647999911436\n22. -0.114301648781766\n23. -0.149423893908071\n24. -1.13736959974582\n25. -1.37569952190651\n26. -0.347790553356964\n27. -1.81160982311458\n28. -1.07461026591417\n29. -1.15583666256947\n30. -0.621662416086024\n31. 0.196128834697777\n32. -0.839657747908025\n33. 0.592525496629468\n34. 0.0151347599594838\n35. -1.10251967593293\n36. -0.336618658982785\n37. 1.25531593035196\n38. -0.0770178837771254\n39. 0.229019776519197\n40. -1.32043141686232\n41. -1.62065816188904\n42. -0.376435151021747\n43. -0.995327489066548\n44. 1.93374268182903\n45. -1.08956356832966\n46. 1.3066711788134\n47. -0.513771225992908\n48. -0.800855890515298\n49. 0.518384173764997\n50. -0.920250256211086\n51. 0.0676085047675274\n52. -0.246063571473456\n53. 0.469181164068159\n54. 1.11655915570782\n55. -1.75515851359904\n56. -0.0241276246893042\n57. 0.579873417169769\n58. -1.37977860871629\n59. -0.161542326675698\n60. -0.696322812192112\n61. -0.0107454443619949\n62. -0.23547020607683\n63. -0.0391771029686131\n64. -0.776887373056242\n65. 0.0152362127576184\n66. 1.05994392793093\n67. -0.815147689666288\n68. 1.1769752927827\n69. 0.0956653539969708\n70. -0.858447319941797\n71. -0.816180957999206\n72. -0.788553362864421\n73. 0.949451082623358\n74. 1.3378530386782\n75. -0.440012583617069\n76. 1.90463206167963\n77. -0.393756820178076\n78. -0.590950271758495\n79. 0.49457126278038\n80. -1.10264877184192\n81. -1.58443600245594\n82. 1.27892757996663\n83. 0.337047001226024\n84. -0.839994314342014\n85. -0.601977509296909\n86. 0.825011000856059\n87. -0.129127221823093\n88. 1.235100023682\n89. 1.24935361978903\n90. -0.344733930338738\n91. -2.04475092718766\n92. 0.437648507817769\n93. 0.820898246945449\n94. -0.730227895623464\n95. 0.332430660629427\n96. 0.982126991124763\n97. -0.977901265447436\n98. 0.182019475765316\n99. 1.50310600542606\n100. -0.0304365466716636\n\n\n",
            "text/html": [
              "<style>\n",
              ".list-inline {list-style: none; margin:0; padding: 0}\n",
              ".list-inline>li {display: inline-block}\n",
              ".list-inline>li:not(:last-child)::after {content: \"\\00b7\"; padding: 0 .5ex}\n",
              "</style>\n",
              "<ol class=list-inline><li>-0.981293235889298</li><li>-0.681122160664984</li><li>0.275996092961007</li><li>-0.892621333368609</li><li>0.0259812490266849</li><li>0.0576040786465978</li><li>-1.20554231665038</li><li>1.27604817455196</li><li>1.2088469042498</li><li>-1.05372444305911</li><li>-1.488832586893</li><li>2.49505474894456</li><li>-1.06893773662696</li><li>-0.387441708968738</li><li>0.59427173269984</li><li>-1.10544069537497</li><li>1.29958030484976</li><li>1.62095107302242</li><li>0.133310210086101</li><li>0.738631919304421</li><li>0.618647999911436</li><li>-0.114301648781766</li><li>-0.149423893908071</li><li>-1.13736959974582</li><li>-1.37569952190651</li><li>-0.347790553356964</li><li>-1.81160982311458</li><li>-1.07461026591417</li><li>-1.15583666256947</li><li>-0.621662416086024</li><li>0.196128834697777</li><li>-0.839657747908025</li><li>0.592525496629468</li><li>0.0151347599594838</li><li>-1.10251967593293</li><li>-0.336618658982785</li><li>1.25531593035196</li><li>-0.0770178837771254</li><li>0.229019776519197</li><li>-1.32043141686232</li><li>-1.62065816188904</li><li>-0.376435151021747</li><li>-0.995327489066548</li><li>1.93374268182903</li><li>-1.08956356832966</li><li>1.3066711788134</li><li>-0.513771225992908</li><li>-0.800855890515298</li><li>0.518384173764997</li><li>-0.920250256211086</li><li>0.0676085047675274</li><li>-0.246063571473456</li><li>0.469181164068159</li><li>1.11655915570782</li><li>-1.75515851359904</li><li>-0.0241276246893042</li><li>0.579873417169769</li><li>-1.37977860871629</li><li>-0.161542326675698</li><li>-0.696322812192112</li><li>-0.0107454443619949</li><li>-0.23547020607683</li><li>-0.0391771029686131</li><li>-0.776887373056242</li><li>0.0152362127576184</li><li>1.05994392793093</li><li>-0.815147689666288</li><li>1.1769752927827</li><li>0.0956653539969708</li><li>-0.858447319941797</li><li>-0.816180957999206</li><li>-0.788553362864421</li><li>0.949451082623358</li><li>1.3378530386782</li><li>-0.440012583617069</li><li>1.90463206167963</li><li>-0.393756820178076</li><li>-0.590950271758495</li><li>0.49457126278038</li><li>-1.10264877184192</li><li>-1.58443600245594</li><li>1.27892757996663</li><li>0.337047001226024</li><li>-0.839994314342014</li><li>-0.601977509296909</li><li>0.825011000856059</li><li>-0.129127221823093</li><li>1.235100023682</li><li>1.24935361978903</li><li>-0.344733930338738</li><li>-2.04475092718766</li><li>0.437648507817769</li><li>0.820898246945449</li><li>-0.730227895623464</li><li>0.332430660629427</li><li>0.982126991124763</li><li>-0.977901265447436</li><li>0.182019475765316</li><li>1.50310600542606</li><li>-0.0304365466716636</li></ol>\n"
            ]
          },
          "metadata": {}
        },
        {
          "output_type": "display_data",
          "data": {
            "text/plain": [
              "[1] 100"
            ],
            "text/latex": "100",
            "text/markdown": "100",
            "text/html": [
              "100"
            ]
          },
          "metadata": {}
        },
        {
          "output_type": "display_data",
          "data": {
            "text/plain": [
              "[1] -2.044751  2.495055"
            ],
            "text/latex": "\\begin{enumerate*}\n\\item -2.04475092718766\n\\item 2.49505474894456\n\\end{enumerate*}\n",
            "text/markdown": "1. -2.04475092718766\n2. 2.49505474894456\n\n\n",
            "text/html": [
              "<style>\n",
              ".list-inline {list-style: none; margin:0; padding: 0}\n",
              ".list-inline>li {display: inline-block}\n",
              ".list-inline>li:not(:last-child)::after {content: \"\\00b7\"; padding: 0 .5ex}\n",
              "</style>\n",
              "<ol class=list-inline><li>-2.04475092718766</li><li>2.49505474894456</li></ol>\n"
            ]
          },
          "metadata": {}
        },
        {
          "output_type": "display_data",
          "data": {
            "text/plain": [
              "[1] -2.044751"
            ],
            "text/latex": "-2.04475092718766",
            "text/markdown": "-2.04475092718766",
            "text/html": [
              "-2.04475092718766"
            ]
          },
          "metadata": {}
        },
        {
          "output_type": "display_data",
          "data": {
            "text/plain": [
              "[1] 2.495055"
            ],
            "text/latex": "2.49505474894456",
            "text/markdown": "2.49505474894456",
            "text/html": [
              "2.49505474894456"
            ]
          },
          "metadata": {}
        },
        {
          "output_type": "display_data",
          "data": {
            "text/plain": [
              "[1] -0.1021786"
            ],
            "text/latex": "-0.102178577952412",
            "text/markdown": "-0.102178577952412",
            "text/html": [
              "-0.102178577952412"
            ]
          },
          "metadata": {}
        },
        {
          "output_type": "display_data",
          "data": {
            "text/plain": [
              "[1] -0.1392756"
            ],
            "text/latex": "-0.139275557865582",
            "text/markdown": "-0.139275557865582",
            "text/html": [
              "-0.139275557865582"
            ]
          },
          "metadata": {}
        },
        {
          "output_type": "display_data",
          "data": {
            "text/plain": [
              "[1] 0.9642404"
            ],
            "text/latex": "0.964240439522482",
            "text/markdown": "0.964240439522482",
            "text/html": [
              "0.964240439522482"
            ]
          },
          "metadata": {}
        },
        {
          "output_type": "display_data",
          "data": {
            "text/plain": [
              "[1] 0.9297596"
            ],
            "text/latex": "0.929759625210508",
            "text/markdown": "0.929759625210508",
            "text/html": [
              "0.929759625210508"
            ]
          },
          "metadata": {}
        },
        {
          "output_type": "display_data",
          "data": {
            "text/plain": [
              "[1] 0.9297596"
            ],
            "text/latex": "0.929759625210508",
            "text/markdown": "0.929759625210508",
            "text/html": [
              "0.929759625210508"
            ]
          },
          "metadata": {}
        },
        {
          "output_type": "display_data",
          "data": {
            "text/plain": [
              "[1] -3.381606e-29"
            ],
            "text/latex": "-3.38160604766714e-29",
            "text/markdown": "-3.38160604766714e-29",
            "text/html": [
              "-3.38160604766714e-29"
            ]
          },
          "metadata": {}
        },
        {
          "output_type": "display_data",
          "data": {
            "text/plain": [
              "        5%        50%        95% \n",
              "-1.4936128 -0.1392756  1.3461157 "
            ],
            "text/latex": "\\begin{description*}\n\\item[5\\textbackslash{}\\%] -1.49361275767115\n\\item[50\\textbackslash{}\\%] -0.139275557865582\n\\item[95\\textbackslash{}\\%] 1.34611568701559\n\\end{description*}\n",
            "text/markdown": "5%\n:   -1.4936127576711550%\n:   -0.13927555786558295%\n:   1.34611568701559\n\n",
            "text/html": [
              "<style>\n",
              ".dl-inline {width: auto; margin:0; padding: 0}\n",
              ".dl-inline>dt, .dl-inline>dd {float: none; width: auto; display: inline-block}\n",
              ".dl-inline>dt::after {content: \":\\0020\"; padding-right: .5ex}\n",
              ".dl-inline>dt:not(:first-of-type) {padding-left: .5ex}\n",
              "</style><dl class=dl-inline><dt>5%</dt><dd>-1.49361275767115</dd><dt>50%</dt><dd>-0.139275557865582</dd><dt>95%</dt><dd>1.34611568701559</dd></dl>\n"
            ]
          },
          "metadata": {}
        },
        {
          "output_type": "display_data",
          "data": {
            "image/png": "[encoded data removed]",
            "text/plain": [
              "plot without title"
            ]
          },
          "metadata": {
            "image/png": {
              "width": 420,
              "height": 420
            }
          }
        },
        {
          "output_type": "display_data",
          "data": {
            "text/plain": [
              "character(0)"
            ],
            "text/latex": "",
            "text/markdown": "",
            "text/html": [
              ""
            ]
          },
          "metadata": {}
        },
        {
          "output_type": "display_data",
          "data": {
            "image/png": "[encoded data removed]",
            "text/plain": [
              "Plot with title “Histogram of x”"
            ]
          },
          "metadata": {
            "image/png": {
              "width": 420,
              "height": 420
            }
          }
        }
      ]
    },
    {
      "cell_type": "markdown",
      "metadata": {
        "id": "dm9ClIikAJVB"
      },
      "source": [
        "#### Get some data\n",
        "If you need to run commands on the computer operating system itself, use the `!`. The `!wget` command is a linux command that will download files from a given URL."
      ]
    },
    {
      "cell_type": "code",
      "metadata": {
        "id": "7Hg0AO1v9nSM"
      },
      "source": [
        "load(\"~/Documents/Classes/Spring2016/5540Spring2016/data/SST.RData\")\n",
        "# you have to edit your own path\n",
        "# an alternative:\n",
        "#load(file.choose())\n",
        "ls()\n",
        "sst\n",
        "year\n",
        "plot(sst~year, main=\"Historical sea surface temperature anomalies\", ylab=\"Degrees\",\n",
        "  xlab=\"Year\", type=\"b\") # try plot(sst) vs. plot(sst~year), see what happens to the x-axis\n",
        "abline(h=0)\n",
        "# hmm, is there evidence of a trend?"
      ],
      "execution_count": null,
      "outputs": []
    },
    {
      "cell_type": "markdown",
      "metadata": {
        "id": "QjrQltYCAVxC"
      },
      "source": [
        "#### Linear model for sst data: \n",
        "\n",
        "$$ \\text{sst} = \\beta_0 + \\beta_1 \\cdot \\text{year} + \\epsilon, \\quad (\\epsilon \\; \\text{iid} \\sim \\mathcal{N}(0,\\sigma^2)) $$\n"
      ]
    },
    {
      "cell_type": "code",
      "metadata": {
        "id": "EfCi-kAN9ubd"
      },
      "source": [
        "model <- lm(sst~year) # automatically includes intercept... can remove via lm(sst~year-1)\n",
        "model\n",
        "summary(model) # note p-values, standard errors, r^2, etc.\n",
        "mean.fcn <- model$coef[1] + model$coef[2]*year\n",
        "\n",
        "plot(sst~year, main=\"Historical sea surface temperature anomalies\", ylab=\"Degrees\",\n",
        "  xlab=\"Year\", type=\"b\")\n",
        "abline(h=0)\n",
        "lines(mean.fcn~year)"
      ],
      "execution_count": null,
      "outputs": []
    },
    {
      "cell_type": "markdown",
      "metadata": {
        "id": "gN3-NKIQAvYz"
      },
      "source": [
        "#### Residual diagnostics"
      ]
    },
    {
      "cell_type": "code",
      "metadata": {
        "id": "Qmsdco5j9wHW"
      },
      "source": [
        "par(mfrow=c(2,2)) # set up a 2x2 window for four plots\n",
        "plot(model) # whoa\n",
        "# looking at the (1,1) plot, Residuals vs. Fitted, how is our assumption of iid errors?\n",
        "dev.off() # manually kill plotting device"
      ],
      "execution_count": null,
      "outputs": []
    },
    {
      "cell_type": "code",
      "metadata": {
        "id": "xoaSoAK39xs-"
      },
      "source": [
        "sstr <- sst - mean.fcn # residuals\n",
        "qqnorm(sstr) ## normal q-q plot\n",
        "qqline(sstr)\n",
        "\n",
        "acf(sstr) # more later..."
      ],
      "execution_count": null,
      "outputs": []
    }
  ]
}