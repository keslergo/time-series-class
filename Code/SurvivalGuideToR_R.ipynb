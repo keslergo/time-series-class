{
  "nbformat": 4,
  "nbformat_minor": 0,
  "metadata": {
    "colab": {
      "name": "SurvivalGuideToR.R",
      "provenance": [],
      "collapsed_sections": [],
      "authorship_tag": "ABX9TyMbanvRk/sFamrZFdKyzyO+",
      "include_colab_link": true
    },
    "kernelspec": {
      "name": "ir",
      "display_name": "R"
    },
    "language_info": {
      "name": "R"
    }
  },
  "cells": [
    {
      "cell_type": "markdown",
      "metadata": {
        "id": "view-in-github",
        "colab_type": "text"
      },
      "source": [
        "<a href=\"https://colab.research.google.com/github/stephenbeckr/time-series-class/blob/main/Code/SurvivalGuideToR_R.ipynb\" target=\"_parent\"><img src=\"https://colab.research.google.com/assets/colab-badge.svg\" alt=\"Open In Colab\"/></a>"
      ]
    },
    {
      "cell_type": "markdown",
      "source": [
        "Short introduction to the `R` programming language\n",
        "\n",
        "This is taken from a similar handout prepared by Prof. Manuel Lladser when he taught time series in Spring 2020 (but all typos and mistakes are most likely mine -- Stephen Becker)"
      ],
      "metadata": {
        "id": "v5TlhGPNNS50"
      }
    },
    {
      "cell_type": "markdown",
      "source": [
        "## Basic distrubtions\n",
        "Some of the basic distributions in R are: \n",
        "\n",
        "**Discrete**\n",
        "- Binomial (`binom`) with parameters $n$ and $p$\n",
        "  - Bernoulli is the special case $n=1$\n",
        "  - Multinomial (`multinom`) is a generalization\n",
        "- Negative Binomial (`nbinom`) with parameters $\\alpha$ and $p$\n",
        "- Poisson (`pois`) with parameter $\\lambda$\n",
        "- Uniform (`unif`) on some set $\\{1,2,\\ldots,k\\}$\n",
        "- Geometric (`geom`) \n",
        "\n",
        "\n",
        "**Continuous**\n",
        "- Normal (`norm`) with mean $\\mu$ and variance $\\sigma^2$\n",
        "- Exponential (`exp`) with parameter $\\lambda$\n",
        "- Gamma (`gamma`) with parameters $\\alpha$ and $\\lambda$\n",
        "- chi-squared (`chisq`) with $\\nu$ degrees of freedom\n",
        "- Uniform (`unif`) on some interval $[a,b]$\n",
        "\n",
        "For the complete list of distributions type `help(distribution)`."
      ],
      "metadata": {
        "id": "Vw2ZR_JXtM1S"
      }
    },
    {
      "cell_type": "markdown",
      "source": [
        "What can you do with distributions?\n",
        "#### Drawing random samples from a distrbution\n",
        "The syntax to simulate a distribution is: `rNAME(NUMBER,PARAMETERS)`. Here “r” stands for “random” and `NAME` is any of R’s known distributions. `NUMBER` is the total number of simulations of the distribution under the given `PARAMETERS`\n",
        "\n",
        "**Example**\n",
        "To simulate 20 independent Binomial random variables with parameters $n = 5$ (SIZE parameter) and $p = 0.2$ (PROB parameter) write in the console: `rbinom(20,5,0.2)`. \n",
        "\n",
        "To remember what each parameter represents write: `rbinom()` and note the clue at the bottom of the console. And if you need extra clarification, write: `help(rbinom)`."
      ],
      "metadata": {
        "id": "n7w6owFowOgB"
      }
    },
    {
      "cell_type": "code",
      "source": [
        "rbinom(20,5,.2)"
      ],
      "metadata": {
        "colab": {
          "base_uri": "https://localhost:8080/",
          "height": 34
        },
        "id": "bvwR02CZszrk",
        "outputId": "cf472ae2-5ddc-4a6a-d888-7e78ebb440e8"
      },
      "execution_count": 6,
      "outputs": [
        {
          "output_type": "display_data",
          "data": {
            "text/plain": [
              " [1] 1 1 0 0 0 1 2 1 1 2 3 0 1 0 4 0 0 1 2 0"
            ],
            "text/latex": "\\begin{enumerate*}\n\\item 1\n\\item 1\n\\item 0\n\\item 0\n\\item 0\n\\item 1\n\\item 2\n\\item 1\n\\item 1\n\\item 2\n\\item 3\n\\item 0\n\\item 1\n\\item 0\n\\item 4\n\\item 0\n\\item 0\n\\item 1\n\\item 2\n\\item 0\n\\end{enumerate*}\n",
            "text/markdown": "1. 1\n2. 1\n3. 0\n4. 0\n5. 0\n6. 1\n7. 2\n8. 1\n9. 1\n10. 2\n11. 3\n12. 0\n13. 1\n14. 0\n15. 4\n16. 0\n17. 0\n18. 1\n19. 2\n20. 0\n\n\n",
            "text/html": [
              "<style>\n",
              ".list-inline {list-style: none; margin:0; padding: 0}\n",
              ".list-inline>li {display: inline-block}\n",
              ".list-inline>li:not(:last-child)::after {content: \"\\00b7\"; padding: 0 .5ex}\n",
              "</style>\n",
              "<ol class=list-inline><li>1</li><li>1</li><li>0</li><li>0</li><li>0</li><li>1</li><li>2</li><li>1</li><li>1</li><li>2</li><li>3</li><li>0</li><li>1</li><li>0</li><li>4</li><li>0</li><li>0</li><li>1</li><li>2</li><li>0</li></ol>\n"
            ]
          },
          "metadata": {}
        }
      ]
    },
    {
      "cell_type": "code",
      "source": [
        "table(rbinom(20,5,.2))  # build a contingency table of the counts"
      ],
      "metadata": {
        "colab": {
          "base_uri": "https://localhost:8080/",
          "height": 69
        },
        "id": "xuQL2ItizSm6",
        "outputId": "10fab72b-6931-49cf-ef4f-3f7a486efd43"
      },
      "execution_count": 22,
      "outputs": [
        {
          "output_type": "display_data",
          "data": {
            "text/plain": [
              "\n",
              "0 1 2 4 \n",
              "6 8 5 1 "
            ]
          },
          "metadata": {}
        }
      ]
    },
    {
      "cell_type": "code",
      "source": [
        "plot(table(rbinom(100,5,.2)),lwd=3,col=\"red\",type = \"h\",  main = \"histogram\")"
      ],
      "metadata": {
        "colab": {
          "base_uri": "https://localhost:8080/",
          "height": 437
        },
        "id": "iokq_kJvzCvW",
        "outputId": "6ee7d6b1-3563-4974-a8ae-feaad9f84f4c"
      },
      "execution_count": 31,
      "outputs": [
        {
          "output_type": "display_data",
          "data": {
            "image/png": "[encoded data removed]",
            "text/plain": [
              "Plot with title “histogram”"
            ]
          },
          "metadata": {
            "image/png": {
              "width": 420,
              "height": 420
            }
          }
        }
      ]
    },
    {
      "cell_type": "markdown",
      "source": [
        "#### Evaluating probability density/mass functions\n",
        "To evaluate a p.d.f. or p.m.f. of a distribution at certain x use: `dNAME(x,PARAMETERS)`. Here “d” stands for “distribution”. For discrete distributions this is interpreted as the probability mass function (p.m.f.), but for continuous as the probability density function (p.d.f.)\n",
        "\n",
        "**Example** To evaluate the p.d.f. of an Exponential with rate parameter $\\lambda = 0.2$ at $x = 7.345$ write: `dexp(7.345,0.2)`. \n",
        "\n",
        "**Example** To evaluate the p.m.f. of a Poisson with rate $\\lambda = 0.2$ at $x = 3$ write: `dpois(3,0.2)`."
      ],
      "metadata": {
        "id": "8TUIJ1-3w2cU"
      }
    },
    {
      "cell_type": "code",
      "source": [
        "expPdf <- function(x){ dexp(x,0.2) }\n",
        "plot( expPdf, xlab=\"X\",ylab=\"dP\",lwd=3,main=\"PDF of the exponential distribution\", xlim=c(0,5) )"
      ],
      "metadata": {
        "colab": {
          "base_uri": "https://localhost:8080/",
          "height": 437
        },
        "id": "P144ZkLfwrrb",
        "outputId": "9e0fbfc0-3659-492a-e8d5-2e67d6f8c268"
      },
      "execution_count": 29,
      "outputs": [
        {
          "output_type": "display_data",
          "data": {
            "image/png": "[encoded data removed]",
            "text/plain": [
              "Plot with title “PDF of the exponential distribution”"
            ]
          },
          "metadata": {
            "image/png": {
              "width": 420,
              "height": 420
            }
          }
        }
      ]
    },
    {
      "cell_type": "code",
      "source": [
        "poissPdf <- function(x){ dpois(x,0.2) }\n",
        "x = seq(0,8)\n",
        "y = poissPdf(x)\n",
        "plot( x, y, xlab=\"X\",ylab=\"dP\",type='h',lwd=3,main=\"PMF of the Poisson distribution\", xlim=c(0,5) )"
      ],
      "metadata": {
        "colab": {
          "base_uri": "https://localhost:8080/",
          "height": 437
        },
        "id": "eTGhadg6xTt_",
        "outputId": "5137e3af-1f03-4988-89e7-b545cfa99d3c"
      },
      "execution_count": 28,
      "outputs": [
        {
          "output_type": "display_data",
          "data": {
            "image/png": "[encoded data removed]",
            "text/plain": [
              "Plot with title “PMF of the Poisson distribution”"
            ]
          },
          "metadata": {
            "image/png": {
              "width": 420,
              "height": 420
            }
          }
        }
      ]
    },
    {
      "cell_type": "markdown",
      "source": [
        "#### Evaluating cumulative distribution functions\n",
        "To evaluate the c.d.f. of a random variable at certain value x use: `pNAME(x,PARAMETERS)`.\n",
        "\n",
        "**Example** To evaluate the c.d.f. of a Geometric with parameter $p = 0.5$ at $x = 5$ write: `pgeom(5,0.5)`."
      ],
      "metadata": {
        "id": "A-pEoh_T0Ioq"
      }
    },
    {
      "cell_type": "code",
      "source": [
        "normalCdf <- function(x){ pnorm(x) }\n",
        "plot( normalCdf, xlab=\"X\",ylab=\"P\",lwd=3,main=\"CDF of the normal distribution\", xlim=c(-3,3) )"
      ],
      "metadata": {
        "colab": {
          "base_uri": "https://localhost:8080/",
          "height": 437
        },
        "id": "bklxPTvjyj90",
        "outputId": "013f19d3-486a-4714-cda2-a0c5f9631f41"
      },
      "execution_count": 32,
      "outputs": [
        {
          "output_type": "display_data",
          "data": {
            "image/png": "[encoded data removed]",
            "text/plain": [
              "Plot with title “CDF of the normal distribution”"
            ]
          },
          "metadata": {
            "image/png": {
              "width": 420,
              "height": 420
            }
          }
        }
      ]
    },
    {
      "cell_type": "markdown",
      "source": [
        "## Functions\n",
        "**Example**. The following function returns the distance (d) between a point (x,y) and the origin (0,0): `d <- function(x,y){sqrt(x^2 + y^2)}`. To determine how far is the point (3, 4) from the origin then just enter: `d(3, 4)`."
      ],
      "metadata": {
        "id": "R9mMi7tO0lsI"
      }
    },
    {
      "cell_type": "code",
      "source": [
        "d <- function(x,y){sqrt(x^2 + y^2)}\n",
        "d(3,4)"
      ],
      "metadata": {
        "colab": {
          "base_uri": "https://localhost:8080/",
          "height": 34
        },
        "id": "f096owQG0gow",
        "outputId": "880ead04-9b1c-40a0-f147-09e2c88898e6"
      },
      "execution_count": 34,
      "outputs": [
        {
          "output_type": "display_data",
          "data": {
            "text/plain": [
              "[1] 5"
            ],
            "text/latex": "5",
            "text/markdown": "5",
            "text/html": [
              "5"
            ]
          },
          "metadata": {}
        }
      ]
    },
    {
      "cell_type": "markdown",
      "source": [
        "A function may return several values.\n",
        "\n",
        "**Example** To simultaneously compute the arithmetic and geometric mean of a pair of numbers $x$ and $y$, define: `means <- function(x,y){return( c((x+y)/2,(x*y)∧0.5) )}`. In R, `c()` is used to define a sequence of numbers."
      ],
      "metadata": {
        "id": "zbaB19lv1He-"
      }
    },
    {
      "cell_type": "code",
      "source": [
        "means <- function(x,y){return( c((x+y)/2,(x*y)^0.5) )}\n",
        "means(2,8)"
      ],
      "metadata": {
        "colab": {
          "base_uri": "https://localhost:8080/",
          "height": 34
        },
        "id": "dH8ELFid061t",
        "outputId": "3be30e2c-82a5-4b51-be3c-ed4087859bb4"
      },
      "execution_count": 37,
      "outputs": [
        {
          "output_type": "display_data",
          "data": {
            "text/plain": [
              "[1] 5 4"
            ],
            "text/latex": "\\begin{enumerate*}\n\\item 5\n\\item 4\n\\end{enumerate*}\n",
            "text/markdown": "1. 5\n2. 4\n\n\n",
            "text/html": [
              "<style>\n",
              ".list-inline {list-style: none; margin:0; padding: 0}\n",
              ".list-inline>li {display: inline-block}\n",
              ".list-inline>li:not(:last-child)::after {content: \"\\00b7\"; padding: 0 .5ex}\n",
              "</style>\n",
              "<ol class=list-inline><li>5</li><li>4</li></ol>\n"
            ]
          },
          "metadata": {}
        }
      ]
    },
    {
      "cell_type": "markdown",
      "source": [
        "## Plotting\n",
        "Plots can be done with either (a) functions, or (b) data.\n",
        "\n",
        "For (a) functions, plot as `plot( FUNCTION, xlim=c(LOWER,UPPER), ... )`\n",
        "\n",
        "For (b) data/sequences, plot as `plot( X, Y, ... )` (or just `plot(Y)` to use the default of `X` being 1, 2, ..., n)\n",
        "\n",
        "The `...` are more options, like `xlab=“X-AXIS LABEL”,ylab=“Y-AXIS LABEL”,main=“PLOT NAME”,xlim=c(LOWER,UPPER)`"
      ],
      "metadata": {
        "id": "SRqoQnzV1jW0"
      }
    },
    {
      "cell_type": "code",
      "source": [
        ""
      ],
      "metadata": {
        "id": "LLVC---g1T1g"
      },
      "execution_count": null,
      "outputs": []
    },
    {
      "cell_type": "markdown",
      "source": [
        "## Defining and Operating with Sequences.\n",
        "A sequence is a vector i.e. a list of objects where repetitions and order matters. The syntax to define an arbitrary sequence is: \n",
        "`c(ELEMENT1,ELEMENT2,ELEMENT3,...)`.  \n",
        "\n",
        "The `c` is for **combine**.  When the elements are of the same type, this is called a **vector**, and when it's a mix of different things, it's called a **list**. Here's more [info on lists](https://www.tutorialspoint.com/r/r_lists.htm) including the `list` command, and [more info on vector vs list](https://www.edureka.co/community/58311/what-is-the-difference-between-list-and-vector-in-r).\n",
        "\n",
        "The elements in a sequence can be numbers, strings (e.g. “APPM”) or Boolean expressions (e.g. TRUE or FALSE). Below we examine various basic operations over numerical sequences. Note that TRUE and FALSE are interpreted as 1 and 0 when used in numerical expressions.\n",
        "\n",
        "\n"
      ],
      "metadata": {
        "id": "VSdhzxNq_EPa"
      }
    },
    {
      "cell_type": "code",
      "source": [
        "z = c(3.14, \"Tuesday\", 'Wednesday', 19)\n",
        "z\n",
        "print(z)"
      ],
      "metadata": {
        "colab": {
          "base_uri": "https://localhost:8080/",
          "height": 52
        },
        "id": "rwbkRcoJ_gKh",
        "outputId": "bcbcaaa9-99e7-431c-e9b0-c35c240a0108"
      },
      "execution_count": 13,
      "outputs": [
        {
          "output_type": "display_data",
          "data": {
            "text/plain": [
              "[1] \"3.14\"      \"Tuesday\"   \"Wednesday\" \"19\"       "
            ],
            "text/latex": "\\begin{enumerate*}\n\\item '3.14'\n\\item 'Tuesday'\n\\item 'Wednesday'\n\\item '19'\n\\end{enumerate*}\n",
            "text/markdown": "1. '3.14'\n2. 'Tuesday'\n3. 'Wednesday'\n4. '19'\n\n\n",
            "text/html": [
              "<style>\n",
              ".list-inline {list-style: none; margin:0; padding: 0}\n",
              ".list-inline>li {display: inline-block}\n",
              ".list-inline>li:not(:last-child)::after {content: \"\\00b7\"; padding: 0 .5ex}\n",
              "</style>\n",
              "<ol class=list-inline><li>'3.14'</li><li>'Tuesday'</li><li>'Wednesday'</li><li>'19'</li></ol>\n"
            ]
          },
          "metadata": {}
        },
        {
          "output_type": "stream",
          "name": "stdout",
          "text": [
            "[1] \"3.14\"      \"Tuesday\"   \"Wednesday\" \"19\"       \n"
          ]
        }
      ]
    },
    {
      "cell_type": "code",
      "source": [
        "y <- list( 3.14 , \"Thurs\", \"Fri\", 16, 18)\n",
        "print(y)"
      ],
      "metadata": {
        "colab": {
          "base_uri": "https://localhost:8080/"
        },
        "id": "XifryjZzDfqJ",
        "outputId": "07ee22a5-e8b2-4fa8-fb71-506cbe5aacf6"
      },
      "execution_count": 12,
      "outputs": [
        {
          "output_type": "stream",
          "name": "stdout",
          "text": [
            "[[1]]\n",
            "[1] 3.14\n",
            "\n",
            "[[2]]\n",
            "[1] \"Thurs\"\n",
            "\n",
            "[[3]]\n",
            "[1] \"Fri\"\n",
            "\n",
            "[[4]]\n",
            "[1] 16\n",
            "\n",
            "[[5]]\n",
            "[1] 18\n",
            "\n"
          ]
        }
      ]
    },
    {
      "cell_type": "markdown",
      "source": [
        "The syntax to define a repeated sequence of objects is: `rep(OBJECT,LENGTH)`.\n",
        "\n",
        "**Example** To create a sequence called `z` of ten zeroes, enter: `z=rep(0,10)`. If then you enter z in the console, R\n",
        "will return a sequence with ten zeroes.\n",
        "\n",
        "(By the way, both `z = rep(0,10)` and `z <- rep(0,10)` are valid. For details on the difference, see https://stackoverflow.com/q/1741820/269192.  The short answer: in basic situations, either one works)."
      ],
      "metadata": {
        "id": "mUx4RuNe_crq"
      }
    },
    {
      "cell_type": "code",
      "source": [
        "z = rep(0,10)\n",
        "#z <- rep(0,10)   # This would also work\n",
        "z"
      ],
      "metadata": {
        "colab": {
          "base_uri": "https://localhost:8080/",
          "height": 34
        },
        "id": "4x4Mos6o_YFM",
        "outputId": "a33ad97a-897e-4db8-9cf5-a75cc17cede6"
      },
      "execution_count": 1,
      "outputs": [
        {
          "output_type": "display_data",
          "data": {
            "text/plain": [
              " [1] 0 0 0 0 0 0 0 0 0 0"
            ],
            "text/latex": "\\begin{enumerate*}\n\\item 0\n\\item 0\n\\item 0\n\\item 0\n\\item 0\n\\item 0\n\\item 0\n\\item 0\n\\item 0\n\\item 0\n\\end{enumerate*}\n",
            "text/markdown": "1. 0\n2. 0\n3. 0\n4. 0\n5. 0\n6. 0\n7. 0\n8. 0\n9. 0\n10. 0\n\n\n",
            "text/html": [
              "<style>\n",
              ".list-inline {list-style: none; margin:0; padding: 0}\n",
              ".list-inline>li {display: inline-block}\n",
              ".list-inline>li:not(:last-child)::after {content: \"\\00b7\"; padding: 0 .5ex}\n",
              "</style>\n",
              "<ol class=list-inline><li>0</li><li>0</li><li>0</li><li>0</li><li>0</li><li>0</li><li>0</li><li>0</li><li>0</li><li>0</li></ol>\n"
            ]
          },
          "metadata": {}
        }
      ]
    },
    {
      "cell_type": "markdown",
      "source": [
        "The syntax to define an arithmetic sequence is: seq(LOWER,UPPER,INCREMENT), which will define a sequence of numbers from the LOWER to the UPPER end by multiples of the INCREMENT. Note that LOWER may be larger than UPPER when the INCREMENT is negative.\n",
        "\n",
        "**Example** To define the sequence 1, 3, 5, 7 enter: seq(1,7,2).\n",
        "\n"
      ],
      "metadata": {
        "id": "pffQ1O2h_XPM"
      }
    },
    {
      "cell_type": "code",
      "source": [
        "seq(1,19,3)"
      ],
      "metadata": {
        "colab": {
          "base_uri": "https://localhost:8080/",
          "height": 34
        },
        "id": "vqo9hXeuAz-x",
        "outputId": "a7b9e5e7-0dc6-4449-bcb3-add37510dbbe"
      },
      "execution_count": 5,
      "outputs": [
        {
          "output_type": "display_data",
          "data": {
            "text/plain": [
              "[1]  1  4  7 10 13 16 19"
            ],
            "text/latex": "\\begin{enumerate*}\n\\item 1\n\\item 4\n\\item 7\n\\item 10\n\\item 13\n\\item 16\n\\item 19\n\\end{enumerate*}\n",
            "text/markdown": "1. 1\n2. 4\n3. 7\n4. 10\n5. 13\n6. 16\n7. 19\n\n\n",
            "text/html": [
              "<style>\n",
              ".list-inline {list-style: none; margin:0; padding: 0}\n",
              ".list-inline>li {display: inline-block}\n",
              ".list-inline>li:not(:last-child)::after {content: \"\\00b7\"; padding: 0 .5ex}\n",
              "</style>\n",
              "<ol class=list-inline><li>1</li><li>4</li><li>7</li><li>10</li><li>13</li><li>16</li><li>19</li></ol>\n"
            ]
          },
          "metadata": {}
        }
      ]
    },
    {
      "cell_type": "code",
      "source": [
        "seq(1,5)"
      ],
      "metadata": {
        "colab": {
          "base_uri": "https://localhost:8080/",
          "height": 34
        },
        "id": "3OJ7wTF8Ceyp",
        "outputId": "b9aa3c20-a99e-41af-99f6-9de2ff95cc1b"
      },
      "execution_count": 8,
      "outputs": [
        {
          "output_type": "display_data",
          "data": {
            "text/plain": [
              "[1] 1 2 3 4 5"
            ],
            "text/latex": "\\begin{enumerate*}\n\\item 1\n\\item 2\n\\item 3\n\\item 4\n\\item 5\n\\end{enumerate*}\n",
            "text/markdown": "1. 1\n2. 2\n3. 3\n4. 4\n5. 5\n\n\n",
            "text/html": [
              "<style>\n",
              ".list-inline {list-style: none; margin:0; padding: 0}\n",
              ".list-inline>li {display: inline-block}\n",
              ".list-inline>li:not(:last-child)::after {content: \"\\00b7\"; padding: 0 .5ex}\n",
              "</style>\n",
              "<ol class=list-inline><li>1</li><li>2</li><li>3</li><li>4</li><li>5</li></ol>\n"
            ]
          },
          "metadata": {}
        }
      ]
    },
    {
      "cell_type": "code",
      "source": [
        "1:5  # another way to do it"
      ],
      "metadata": {
        "colab": {
          "base_uri": "https://localhost:8080/",
          "height": 34
        },
        "id": "82k27tcuChGk",
        "outputId": "70e67267-7ef9-4209-f2e9-0ff8b1b81f18"
      },
      "execution_count": 9,
      "outputs": [
        {
          "output_type": "display_data",
          "data": {
            "text/plain": [
              "[1] 1 2 3 4 5"
            ],
            "text/latex": "\\begin{enumerate*}\n\\item 1\n\\item 2\n\\item 3\n\\item 4\n\\item 5\n\\end{enumerate*}\n",
            "text/markdown": "1. 1\n2. 2\n3. 3\n4. 4\n5. 5\n\n\n",
            "text/html": [
              "<style>\n",
              ".list-inline {list-style: none; margin:0; padding: 0}\n",
              ".list-inline>li {display: inline-block}\n",
              ".list-inline>li:not(:last-child)::after {content: \"\\00b7\"; padding: 0 .5ex}\n",
              "</style>\n",
              "<ol class=list-inline><li>1</li><li>2</li><li>3</li><li>4</li><li>5</li></ol>\n"
            ]
          },
          "metadata": {}
        }
      ]
    },
    {
      "cell_type": "markdown",
      "source": [
        "To access elements, use the square bracket `[...]`.  Note that R is 1-based indexing. You can do fancy slices (like Python, but 1-based)"
      ],
      "metadata": {
        "id": "KO66UEvGE6AV"
      }
    },
    {
      "cell_type": "code",
      "source": [
        "x = 1:10\n",
        "x"
      ],
      "metadata": {
        "colab": {
          "base_uri": "https://localhost:8080/",
          "height": 34
        },
        "id": "FoQk6TuSFDIX",
        "outputId": "04dc2853-bf8a-42f2-993b-17935562cdca"
      },
      "execution_count": 14,
      "outputs": [
        {
          "output_type": "display_data",
          "data": {
            "text/plain": [
              " [1]  1  2  3  4  5  6  7  8  9 10"
            ],
            "text/latex": "\\begin{enumerate*}\n\\item 1\n\\item 2\n\\item 3\n\\item 4\n\\item 5\n\\item 6\n\\item 7\n\\item 8\n\\item 9\n\\item 10\n\\end{enumerate*}\n",
            "text/markdown": "1. 1\n2. 2\n3. 3\n4. 4\n5. 5\n6. 6\n7. 7\n8. 8\n9. 9\n10. 10\n\n\n",
            "text/html": [
              "<style>\n",
              ".list-inline {list-style: none; margin:0; padding: 0}\n",
              ".list-inline>li {display: inline-block}\n",
              ".list-inline>li:not(:last-child)::after {content: \"\\00b7\"; padding: 0 .5ex}\n",
              "</style>\n",
              "<ol class=list-inline><li>1</li><li>2</li><li>3</li><li>4</li><li>5</li><li>6</li><li>7</li><li>8</li><li>9</li><li>10</li></ol>\n"
            ]
          },
          "metadata": {}
        }
      ]
    },
    {
      "cell_type": "code",
      "source": [
        "print(\"1st element of x is\")\n",
        "x[1]\n",
        "print('2nd element of x is')\n",
        "x[2]"
      ],
      "metadata": {
        "colab": {
          "base_uri": "https://localhost:8080/",
          "height": 86
        },
        "id": "VV1y5cI8FH_g",
        "outputId": "802ad14d-0e31-44da-d1e6-d4d75abcb118"
      },
      "execution_count": 18,
      "outputs": [
        {
          "output_type": "stream",
          "name": "stdout",
          "text": [
            "[1] \"1st element of x is\"\n"
          ]
        },
        {
          "output_type": "display_data",
          "data": {
            "text/plain": [
              "[1] 1"
            ],
            "text/latex": "1",
            "text/markdown": "1",
            "text/html": [
              "1"
            ]
          },
          "metadata": {}
        },
        {
          "output_type": "stream",
          "name": "stdout",
          "text": [
            "[1] \"2nd element of x is\"\n"
          ]
        },
        {
          "output_type": "display_data",
          "data": {
            "text/plain": [
              "[1] 2"
            ],
            "text/latex": "2",
            "text/markdown": "2",
            "text/html": [
              "2"
            ]
          },
          "metadata": {}
        }
      ]
    },
    {
      "cell_type": "code",
      "source": [
        "x[1:4]"
      ],
      "metadata": {
        "colab": {
          "base_uri": "https://localhost:8080/",
          "height": 34
        },
        "id": "E0VxMTXfFm5p",
        "outputId": "a1386629-c658-4f7c-df21-c4941a2e9f4e"
      },
      "execution_count": 19,
      "outputs": [
        {
          "output_type": "display_data",
          "data": {
            "text/plain": [
              "[1] 1 2 3 4"
            ],
            "text/latex": "\\begin{enumerate*}\n\\item 1\n\\item 2\n\\item 3\n\\item 4\n\\end{enumerate*}\n",
            "text/markdown": "1. 1\n2. 2\n3. 3\n4. 4\n\n\n",
            "text/html": [
              "<style>\n",
              ".list-inline {list-style: none; margin:0; padding: 0}\n",
              ".list-inline>li {display: inline-block}\n",
              ".list-inline>li:not(:last-child)::after {content: \"\\00b7\"; padding: 0 .5ex}\n",
              "</style>\n",
              "<ol class=list-inline><li>1</li><li>2</li><li>3</li><li>4</li></ol>\n"
            ]
          },
          "metadata": {}
        }
      ]
    },
    {
      "cell_type": "code",
      "source": [
        "x[5:0] # backwards"
      ],
      "metadata": {
        "colab": {
          "base_uri": "https://localhost:8080/",
          "height": 34
        },
        "id": "FS4S0WzwFoju",
        "outputId": "31490567-a0d8-46ff-8f6b-53cb80e58c75"
      },
      "execution_count": 21,
      "outputs": [
        {
          "output_type": "display_data",
          "data": {
            "text/plain": [
              "[1] 5 4 3 2 1"
            ],
            "text/latex": "\\begin{enumerate*}\n\\item 5\n\\item 4\n\\item 3\n\\item 2\n\\item 1\n\\end{enumerate*}\n",
            "text/markdown": "1. 5\n2. 4\n3. 3\n4. 2\n5. 1\n\n\n",
            "text/html": [
              "<style>\n",
              ".list-inline {list-style: none; margin:0; padding: 0}\n",
              ".list-inline>li {display: inline-block}\n",
              ".list-inline>li:not(:last-child)::after {content: \"\\00b7\"; padding: 0 .5ex}\n",
              "</style>\n",
              "<ol class=list-inline><li>5</li><li>4</li><li>3</li><li>2</li><li>1</li></ol>\n"
            ]
          },
          "metadata": {}
        }
      ]
    },
    {
      "cell_type": "code",
      "source": [
        "x[-1]  # everything *except* the 1st element"
      ],
      "metadata": {
        "colab": {
          "base_uri": "https://localhost:8080/",
          "height": 34
        },
        "id": "m9jAXjZ4F8zq",
        "outputId": "5dab23d4-745e-4216-e409-b71c70f972a2"
      },
      "execution_count": 25,
      "outputs": [
        {
          "output_type": "display_data",
          "data": {
            "text/plain": [
              "[1]  2  3  4  5  6  7  8  9 10"
            ],
            "text/latex": "\\begin{enumerate*}\n\\item 2\n\\item 3\n\\item 4\n\\item 5\n\\item 6\n\\item 7\n\\item 8\n\\item 9\n\\item 10\n\\end{enumerate*}\n",
            "text/markdown": "1. 2\n2. 3\n3. 4\n4. 5\n5. 6\n6. 7\n7. 8\n8. 9\n9. 10\n\n\n",
            "text/html": [
              "<style>\n",
              ".list-inline {list-style: none; margin:0; padding: 0}\n",
              ".list-inline>li {display: inline-block}\n",
              ".list-inline>li:not(:last-child)::after {content: \"\\00b7\"; padding: 0 .5ex}\n",
              "</style>\n",
              "<ol class=list-inline><li>2</li><li>3</li><li>4</li><li>5</li><li>6</li><li>7</li><li>8</li><li>9</li><li>10</li></ol>\n"
            ]
          },
          "metadata": {}
        }
      ]
    },
    {
      "cell_type": "code",
      "source": [
        "x[ -(1:4) ] # everything *except* the 1st 4 elements"
      ],
      "metadata": {
        "colab": {
          "base_uri": "https://localhost:8080/",
          "height": 34
        },
        "id": "HFN2fQqlFuVC",
        "outputId": "f60316f5-3e0b-4f31-925d-422d68e2ec41"
      },
      "execution_count": 23,
      "outputs": [
        {
          "output_type": "display_data",
          "data": {
            "text/plain": [
              "[1]  5  6  7  8  9 10"
            ],
            "text/latex": "\\begin{enumerate*}\n\\item 5\n\\item 6\n\\item 7\n\\item 8\n\\item 9\n\\item 10\n\\end{enumerate*}\n",
            "text/markdown": "1. 5\n2. 6\n3. 7\n4. 8\n5. 9\n6. 10\n\n\n",
            "text/html": [
              "<style>\n",
              ".list-inline {list-style: none; margin:0; padding: 0}\n",
              ".list-inline>li {display: inline-block}\n",
              ".list-inline>li:not(:last-child)::after {content: \"\\00b7\"; padding: 0 .5ex}\n",
              "</style>\n",
              "<ol class=list-inline><li>5</li><li>6</li><li>7</li><li>8</li><li>9</li><li>10</li></ol>\n"
            ]
          },
          "metadata": {}
        }
      ]
    },
    {
      "cell_type": "markdown",
      "source": [
        "The basic operations between sequences are *coordinate-wise*, and include: addition (+), subtraction (-), multiplication (*) and exponentiation (^).\n",
        "\n",
        "**Example** To create the sequence 12, 22, . . . , 102 just enter: `seq(1, 10, 1) ^ 2`.\n",
        "\n"
      ],
      "metadata": {
        "id": "lUdnePqcAzQt"
      }
    },
    {
      "cell_type": "code",
      "source": [
        "seq(1,10)^2  # if you leave out the last argument of seq(...), it assumes it's 1"
      ],
      "metadata": {
        "colab": {
          "base_uri": "https://localhost:8080/",
          "height": 34
        },
        "id": "2AZR3ko-BCg0",
        "outputId": "d341fcb2-442c-457e-9289-834f0cca01d0"
      },
      "execution_count": 6,
      "outputs": [
        {
          "output_type": "display_data",
          "data": {
            "text/plain": [
              " [1]   1   4   9  16  25  36  49  64  81 100"
            ],
            "text/latex": "\\begin{enumerate*}\n\\item 1\n\\item 4\n\\item 9\n\\item 16\n\\item 25\n\\item 36\n\\item 49\n\\item 64\n\\item 81\n\\item 100\n\\end{enumerate*}\n",
            "text/markdown": "1. 1\n2. 4\n3. 9\n4. 16\n5. 25\n6. 36\n7. 49\n8. 64\n9. 81\n10. 100\n\n\n",
            "text/html": [
              "<style>\n",
              ".list-inline {list-style: none; margin:0; padding: 0}\n",
              ".list-inline>li {display: inline-block}\n",
              ".list-inline>li:not(:last-child)::after {content: \"\\00b7\"; padding: 0 .5ex}\n",
              "</style>\n",
              "<ol class=list-inline><li>1</li><li>4</li><li>9</li><li>16</li><li>25</li><li>36</li><li>49</li><li>64</li><li>81</li><li>100</li></ol>\n"
            ]
          },
          "metadata": {}
        }
      ]
    },
    {
      "cell_type": "markdown",
      "source": [
        "Sequences/vectors can be used to make **matrices**"
      ],
      "metadata": {
        "id": "ZTWQM7BzMKVF"
      }
    },
    {
      "cell_type": "code",
      "source": [
        "z = 1:9\n",
        "matrix( z, nrow=3)  # byrow=FALSE by default\n",
        "print('... and filling up the matrix by row, instead of column:')\n",
        "matrix( z, nrow=3, byrow=TRUE)"
      ],
      "metadata": {
        "colab": {
          "base_uri": "https://localhost:8080/",
          "height": 327
        },
        "id": "OpJhExFZL6Rs",
        "outputId": "a75300d8-a451-4497-b29f-ae2fb47f2477"
      },
      "execution_count": 26,
      "outputs": [
        {
          "output_type": "display_data",
          "data": {
            "text/plain": [
              "     [,1] [,2] [,3]\n",
              "[1,] 1    4    7   \n",
              "[2,] 2    5    8   \n",
              "[3,] 3    6    9   "
            ],
            "text/latex": "A matrix: 3 × 3 of type int\n\\begin{tabular}{lll}\n\t 1 & 4 & 7\\\\\n\t 2 & 5 & 8\\\\\n\t 3 & 6 & 9\\\\\n\\end{tabular}\n",
            "text/markdown": "\nA matrix: 3 × 3 of type int\n\n| 1 | 4 | 7 |\n| 2 | 5 | 8 |\n| 3 | 6 | 9 |\n\n",
            "text/html": [
              "<table class=\"dataframe\">\n",
              "<caption>A matrix: 3 × 3 of type int</caption>\n",
              "<tbody>\n",
              "\t<tr><td>1</td><td>4</td><td>7</td></tr>\n",
              "\t<tr><td>2</td><td>5</td><td>8</td></tr>\n",
              "\t<tr><td>3</td><td>6</td><td>9</td></tr>\n",
              "</tbody>\n",
              "</table>\n"
            ]
          },
          "metadata": {}
        },
        {
          "output_type": "stream",
          "name": "stdout",
          "text": [
            "[1] \"... and filling up the matrix by row, instead of column:\"\n"
          ]
        },
        {
          "output_type": "display_data",
          "data": {
            "text/plain": [
              "     [,1] [,2] [,3]\n",
              "[1,] 1    2    3   \n",
              "[2,] 4    5    6   \n",
              "[3,] 7    8    9   "
            ],
            "text/latex": "A matrix: 3 × 3 of type int\n\\begin{tabular}{lll}\n\t 1 & 2 & 3\\\\\n\t 4 & 5 & 6\\\\\n\t 7 & 8 & 9\\\\\n\\end{tabular}\n",
            "text/markdown": "\nA matrix: 3 × 3 of type int\n\n| 1 | 2 | 3 |\n| 4 | 5 | 6 |\n| 7 | 8 | 9 |\n\n",
            "text/html": [
              "<table class=\"dataframe\">\n",
              "<caption>A matrix: 3 × 3 of type int</caption>\n",
              "<tbody>\n",
              "\t<tr><td>1</td><td>2</td><td>3</td></tr>\n",
              "\t<tr><td>4</td><td>5</td><td>6</td></tr>\n",
              "\t<tr><td>7</td><td>8</td><td>9</td></tr>\n",
              "</tbody>\n",
              "</table>\n"
            ]
          },
          "metadata": {}
        }
      ]
    },
    {
      "cell_type": "markdown",
      "source": [
        "**Functions** also apply coordinate-wise over sequences.\n",
        "\n",
        "**Example** The sequence $\\cos(\\pi/3), \\cos(2\\pi/3), \\ldots , \\cos(10\\pi/3)$ may be obtained by entering: `cos(pi*seq(1,10,1)/3)`. \n",
        "\n",
        "**Example** The sequence $3^1, 3^2, . . . , 3^{10}$ may be obtained as follows: `3 ^ seq(1, 10, 1)`.\n",
        "\n"
      ],
      "metadata": {
        "id": "uT1IykcoA4Ue"
      }
    },
    {
      "cell_type": "code",
      "source": [
        "2 ^ seq(4) # seq(4) is shorthand for seq(1,4,1)"
      ],
      "metadata": {
        "colab": {
          "base_uri": "https://localhost:8080/",
          "height": 34
        },
        "id": "UkBmfRt4Bhbt",
        "outputId": "f4352bf8-69f3-4dda-e473-6c4638fb0b8f"
      },
      "execution_count": 7,
      "outputs": [
        {
          "output_type": "display_data",
          "data": {
            "text/plain": [
              "[1]  2  4  8 16"
            ],
            "text/latex": "\\begin{enumerate*}\n\\item 2\n\\item 4\n\\item 8\n\\item 16\n\\end{enumerate*}\n",
            "text/markdown": "1. 2\n2. 4\n3. 8\n4. 16\n\n\n",
            "text/html": [
              "<style>\n",
              ".list-inline {list-style: none; margin:0; padding: 0}\n",
              ".list-inline>li {display: inline-block}\n",
              ".list-inline>li:not(:last-child)::after {content: \"\\00b7\"; padding: 0 .5ex}\n",
              "</style>\n",
              "<ol class=list-inline><li>2</li><li>4</li><li>8</li><li>16</li></ol>\n"
            ]
          },
          "metadata": {}
        }
      ]
    },
    {
      "cell_type": "markdown",
      "source": [
        "To **add** up all terms in a sequence use: `sum(SEQUENCE)`. A related function is `cumsum` which does a cumulative sum.\n",
        "\n",
        "To compute the **average** or sample mean of a sequence use: `mean(SEQUENCE)`. \n",
        "\n",
        "To compute the **sample variance** of a sequence use: `var(SEQUENCE)`.   (Question: what is the sample variance of a sequence of just one element?)\n",
        "\n",
        "Instead, to compute the **sample standard deviation** use: `sd(SEQUENCE)`, or `sqrt(var(SEQUENCE))`.\n",
        "\n",
        "To determine the **maximum** and **minimum** value in a sequence use: `max(SEQUENCE)` and `min(SEQUENCE)`, respectively. \n",
        "\n",
        "To identify the smallest index where a maximum and minimum in a sequence is achieved use: `which.max(SEQUENCE)` and `which.min(SEQUENCE)`, respectively. \n",
        "\n",
        "To **sort** a sequence in ascending or descending order use: `sort(SEQUENCE`) and `sort(SEQUENCE,decreasing=TRUE)`, respectively."
      ],
      "metadata": {
        "id": "qkaSdndbBJrS"
      }
    },
    {
      "cell_type": "markdown",
      "source": [
        "**Misc**"
      ],
      "metadata": {
        "id": "VHCo6hP2M5CH"
      }
    },
    {
      "cell_type": "code",
      "source": [
        "x = list(1:5)\n",
        "print(x)\n",
        "y = 1:5\n",
        "print(y)\n",
        "\n",
        "print('The above two expressions are slightly different')\n",
        "\n",
        "z = unlist(x)\n",
        "print(z) # `unlist` converts a list to a vector"
      ],
      "metadata": {
        "colab": {
          "base_uri": "https://localhost:8080/"
        },
        "id": "rqmA9kyHCw2C",
        "outputId": "b11cab1f-6f21-48dc-adf8-bb835c9ece01"
      },
      "execution_count": 35,
      "outputs": [
        {
          "output_type": "stream",
          "name": "stdout",
          "text": [
            "[[1]]\n",
            "[1] 1 2 3 4 5\n",
            "\n",
            "[1] 1 2 3 4 5\n",
            "[1] \"The above two expressions are slightly different\"\n",
            "[1] 1 2 3 4 5\n"
          ]
        }
      ]
    },
    {
      "cell_type": "code",
      "source": [
        ""
      ],
      "metadata": {
        "id": "qiE9ZeO-M09F"
      },
      "execution_count": null,
      "outputs": []
    }
  ]
}